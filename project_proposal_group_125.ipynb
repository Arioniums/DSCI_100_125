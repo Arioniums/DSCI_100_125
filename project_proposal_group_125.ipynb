{
 "cells": [
  {
   "cell_type": "markdown",
   "id": "5b458626-91d6-4c34-af7a-41ae0dc10f90",
   "metadata": {},
   "source": [
    "Group 125 - Christian Algaranaz, Krish Arora, Mike Min, Musa Sayeed"
   ]
  },
  {
   "cell_type": "markdown",
   "id": "6fb1ef07-bd28-4e29-a6f4-e1290b299da0",
   "metadata": {},
   "source": [
    "# How to Pick A Top-Performing Investment Portfolio Based On Different Economic Assumptions About the American Economy"
   ]
  },
  {
   "cell_type": "markdown",
   "id": "baf430b1-910c-4d85-ba18-98cc332a3ce8",
   "metadata": {},
   "source": [
    "## Introduction\n",
    "___\n",
    "\n",
    "The investment world is a vast place with countless financial products to choose from! Our project specifically focuses on investment portfolios/bundles composed of different equity and bond mutual funds;  a mutual fund is a type of investment vehicle that pools different assets, such as stocks or bonds. More specifically, we are interested in exploring the annual performance of 5 different portfolios, with each having a unique mutual funds or exchange traded fund composition (see diagram 1 below as reference), from 1987-2021. Based on these returns, we then pay attention to annual U.S. inflation, unemployment, and GDP growth rates data for the same time span. These explanatory variables will then be used to help predict and answer our project question: **Which investment portfolio is expected to earn the highest return under different US inflation, unemployment, and real GDP growth expectations?** A focus is given to U.S data since the American stock market accounts for ~60% of the world's total market capitalization.\n",
    "\n",
    "Ther rationale behind choosing annual inflation, GDP growth, and unemployment data as predictors is because these indicators are a key economical factors that influence any economy. This changes in the economy gets reflected into financial markets, which ultimately impacts investment portfolios of every type. "
   ]
  },
  {
   "cell_type": "markdown",
   "id": "bee7ed97-fc3b-4a60-8b46-df9bdd9112d2",
   "metadata": {},
   "source": [
    "#*****A NEW DIAGRAM IN NEEDED IF WE DECIDE TO GO WITH THE NEW PORTFOLIOS (CHANGING THIS TEXT WOULD ALSO BE REQUIERED)*****\n",
    "\n",
    "<img src=\"https://i.imgur.com/oOdGM3V.png\"/>\n"
   ]
  },
  {
   "cell_type": "markdown",
   "id": "3e0a169f-2f12-4cb1-8b4a-d3247fcb3e4f",
   "metadata": {},
   "source": [
    "### Loading and Merging the Data\n",
    "___"
   ]
  },
  {
   "cell_type": "code",
   "execution_count": 11,
   "id": "3c4c7673-8585-4761-aeae-5837067c7825",
   "metadata": {},
   "outputs": [],
   "source": [
    "library(tidyverse) #function that allows us to import our excel files in csv format"
   ]
  },
  {
   "cell_type": "code",
   "execution_count": 12,
   "id": "1ebcd4e9-e5dd-4a01-8606-c988dbad61f4",
   "metadata": {},
   "outputs": [
    {
     "name": "stderr",
     "output_type": "stream",
     "text": [
      "Warning message in download.file(inflation_url, destfile = inflation_path):\n",
      "“downloaded length 0 != reported length 14”\n",
      "Warning message in download.file(inflation_url, destfile = inflation_path):\n",
      "“cannot open URL 'https://raw.githubusercontent.com/Arioniums/DSCI_100_125/main/inflation_data.csv': HTTP status was '404 Not Found'”\n"
     ]
    },
    {
     "ename": "ERROR",
     "evalue": "Error in download.file(inflation_url, destfile = inflation_path): cannot open URL 'https://raw.githubusercontent.com/Arioniums/DSCI_100_125/main/inflation_data.csv'\n",
     "output_type": "error",
     "traceback": [
      "Error in download.file(inflation_url, destfile = inflation_path): cannot open URL 'https://raw.githubusercontent.com/Arioniums/DSCI_100_125/main/inflation_data.csv'\nTraceback:\n",
      "1. download.file(inflation_url, destfile = inflation_path)"
     ]
    }
   ],
   "source": [
    "#importing inflation rate data\n",
    "inflation_url <- \"https://raw.githubusercontent.com/Arioniums/DSCI_100_125/main/inflation_data.csv\"\n",
    "inflation_path <- \"inflation_data.csv\"\n",
    "download.file(inflation_url, destfile = inflation_path)\n",
    "inflation_data <- read_csv(inflation_path, skip=11, col_names = c(\"date\",\"annual_inflation\"))\n",
    "\n",
    "#reformatting the date values and filtering years to only 1997-2021\n",
    "inflation_data$date <- format(as.Date(inflation_data$date,'%y-%m-%d'),'%Y')\n",
    "inflation_data_c <- filter(inflation_data, between(date, 1997, 2021))\n",
    "\n",
    "#renaming date column into year\n",
    "names(inflation_data_c)[names(inflation_data_c) == 'date'] <- 'year'\n",
    "\n",
    "#c stands for cleaned\n",
    "inflation_data_c"
   ]
  },
  {
   "cell_type": "code",
   "execution_count": null,
   "id": "a9be671f-094f-4584-a04c-4143a933974e",
   "metadata": {},
   "outputs": [],
   "source": [
    "#importing gdp growth rate data\n",
    "real_gdp_url <- \"https://raw.githubusercontent.com/Arioniums/DSCI_100_125/main/real_gdp_data.csv\"\n",
    "real_gdp_path <- \"real_gdp_data.csv\"\n",
    "download.file(real_gdp_url, destfile = real_gdp_path)\n",
    "real_gdp_data <- read_csv(real_gdp_path, skip=3, col_names = c(\"year\",\"real_gdp_growth_rate\",\"type\"))\n",
    "\n",
    "#reformatting the year values and filtering years to only 1997-2021\n",
    "real_gdp_data$year <- format(as.Date(real_gdp_data$year, \"'%y\"),'%Y')\n",
    "gdp_data_c <- select(real_gdp_data, year, real_gdp_growth_rate) |>\n",
    "                filter(between(year, 1997, 2021))\n",
    "\n",
    "#clarification of gdp growth rate unit (percentage)\n",
    "names(gdp_data_c)[names(gdp_data_c) == 'real_gdp_growth_rate'] <- 'real_gdp_growth_rate_percentage'\n",
    "\n",
    "#c stands for cleaned\n",
    "gdp_data_c"
   ]
  },
  {
   "cell_type": "code",
   "execution_count": 6,
   "id": "4d6a48ec-59a2-4e4e-bbf8-effd359c89f7",
   "metadata": {},
   "outputs": [
    {
     "name": "stderr",
     "output_type": "stream",
     "text": [
      "Warning message in download.file(unemployment_url, destfile = unemployment_path):\n",
      "“downloaded length 0 != reported length 14”\n",
      "Warning message in download.file(unemployment_url, destfile = unemployment_path):\n",
      "“cannot open URL 'https://raw.githubusercontent.com/Arioniums/DSCI_100_125/main/unemployment_rates_data.csv': HTTP status was '404 Not Found'”\n"
     ]
    },
    {
     "ename": "ERROR",
     "evalue": "Error in download.file(unemployment_url, destfile = unemployment_path): cannot open URL 'https://raw.githubusercontent.com/Arioniums/DSCI_100_125/main/unemployment_rates_data.csv'\n",
     "output_type": "error",
     "traceback": [
      "Error in download.file(unemployment_url, destfile = unemployment_path): cannot open URL 'https://raw.githubusercontent.com/Arioniums/DSCI_100_125/main/unemployment_rates_data.csv'\nTraceback:\n",
      "1. download.file(unemployment_url, destfile = unemployment_path)"
     ]
    }
   ],
   "source": [
    "#importing annual unemployment rate data\n",
    "unemployment_url <- \"https://raw.githubusercontent.com/Arioniums/DSCI_100_125/main/unemployment_rates_data.csv\"\n",
    "unemployment_path <- \"unemployment_rates_data.csv\"\n",
    "download.file(unemployment_url, destfile = unemployment_path)\n",
    "unemployment_data <- read_csv(unemployment_path, skip=1)\n",
    "\n",
    "#filtering for USA unemployment data, selecting for TIME and Value columns, and then filtering years to only 1997-2021\n",
    "unemployment_data_c <- filter(unemployment_data, LOCATION == \"USA\") |>\n",
    "                    select(TIME, Value) |>\n",
    "                    filter(between(TIME, 1997, 2021))\n",
    "\n",
    "##renaming TIME column into year and Value column into annual_unemployment rate\n",
    "names(unemployment_data_c)[names(unemployment_data_c) == 'TIME'] <- 'year'\n",
    "names(unemployment_data_c)[names(unemployment_data_c) == 'Value'] <- 'annual_unemployment_rate'\n",
    "\n",
    "#c stands for cleaned\n",
    "unemployment_data_c"
   ]
  },
  {
   "cell_type": "code",
   "execution_count": 7,
   "id": "fabe4102-e0e9-4457-922a-f09a75dac04a",
   "metadata": {},
   "outputs": [
    {
     "name": "stderr",
     "output_type": "stream",
     "text": [
      "Warning message in download.file(income_portfolio_url, destfile = income_portfolio_path):\n",
      "“downloaded length 0 != reported length 14”\n",
      "Warning message in download.file(income_portfolio_url, destfile = income_portfolio_path):\n",
      "“cannot open URL 'https://raw.githubusercontent.com/Arioniums/DSCI_100_125/main/income_portfolio_data.csv': HTTP status was '404 Not Found'”\n"
     ]
    },
    {
     "ename": "ERROR",
     "evalue": "Error in download.file(income_portfolio_url, destfile = income_portfolio_path): cannot open URL 'https://raw.githubusercontent.com/Arioniums/DSCI_100_125/main/income_portfolio_data.csv'\n",
     "output_type": "error",
     "traceback": [
      "Error in download.file(income_portfolio_url, destfile = income_portfolio_path): cannot open URL 'https://raw.githubusercontent.com/Arioniums/DSCI_100_125/main/income_portfolio_data.csv'\nTraceback:\n",
      "1. download.file(income_portfolio_url, destfile = income_portfolio_path)"
     ]
    }
   ],
   "source": [
    "#importing income portfolio return data, selecting for year, income_portfolio_path, and filtering years to only 1997-2021\n",
    "income_portfolio_url <- \"https://raw.githubusercontent.com/Arioniums/DSCI_100_125/main/income_portfolio_data.csv\"\n",
    "income_portfolio_path <- \"income_portfolio_data.csv\"\n",
    "download.file(income_portfolio_url, destfile = income_portfolio_path)\n",
    "income_portfolio_data_c <- read_csv(income_portfolio_path, skip = 1, col_names= c(\"year\",\"X2\",\"income_portfolio_return\")) |>\n",
    "                            select(year, income_portfolio_return) |>\n",
    "                            filter(between(year, 1997, 2021))\n",
    "\n",
    "#deleting the percentage unit in the column income_portfolio_return and renaming the income_portfolio_return into income_portfolio_return_percentage\n",
    "income_portfolio_data_c$income_portfolio_return = as.numeric(gsub(\"[\\\\%,]\", \"\", income_portfolio_data_c$income_portfolio_return))\n",
    "names(income_portfolio_data_c)[names(income_portfolio_data_c) == 'income_portfolio_return'] <- 'income_portfolio_return_percentage'\n",
    "\n",
    "#c stands for cleaned\n",
    "income_portfolio_data_c"
   ]
  },
  {
   "cell_type": "code",
   "execution_count": 8,
   "id": "95b1d64d-ea10-47df-a46a-7bd2b03afe57",
   "metadata": {},
   "outputs": [
    {
     "name": "stderr",
     "output_type": "stream",
     "text": [
      "Warning message in download.file(sixty_forty_and_forty_sixty_portfolio_url, destfile = sf_and_fs_path):\n",
      "“downloaded length 0 != reported length 14”\n",
      "Warning message in download.file(sixty_forty_and_forty_sixty_portfolio_url, destfile = sf_and_fs_path):\n",
      "“cannot open URL 'https://raw.githubusercontent.com/Arioniums/DSCI_100_125/main/sixty_forty_and_forty_sixty_portfolio_data.csv': HTTP status was '404 Not Found'”\n"
     ]
    },
    {
     "ename": "ERROR",
     "evalue": "Error in download.file(sixty_forty_and_forty_sixty_portfolio_url, destfile = sf_and_fs_path): cannot open URL 'https://raw.githubusercontent.com/Arioniums/DSCI_100_125/main/sixty_forty_and_forty_sixty_portfolio_data.csv'\n",
     "output_type": "error",
     "traceback": [
      "Error in download.file(sixty_forty_and_forty_sixty_portfolio_url, destfile = sf_and_fs_path): cannot open URL 'https://raw.githubusercontent.com/Arioniums/DSCI_100_125/main/sixty_forty_and_forty_sixty_portfolio_data.csv'\nTraceback:\n",
      "1. download.file(sixty_forty_and_forty_sixty_portfolio_url, destfile = sf_and_fs_path)"
     ]
    }
   ],
   "source": [
    "#importing sixty/forty and forty/sixty portfolio data\n",
    "sixty_forty_and_forty_sixty_portfolio_url <- \"https://raw.githubusercontent.com/Arioniums/DSCI_100_125/main/sixty_forty_and_forty_sixty_portfolio_data.csv\"\n",
    "                                              \n",
    "sf_and_fs_path <- \"sixty_forty_and_forty_sixty_portfolio_data.csv\"\n",
    "download.file(sixty_forty_and_forty_sixty_portfolio_url, destfile = sf_and_fs_path)\n",
    "\n",
    "#selecting for year, 60/40_portfolio_return, 40/60_portfolio_return, and filtering years to only 1997-2021\n",
    "sf_fs_portfolio_data_c <- read_csv(sf_and_fs_path, skip = 3, col_names= c(\"year\",\"X2\",\"60/40_portfolio_return\",\"X3\",\"40/60_portfolio_return\")) |>\n",
    "                                                select(year, \"60/40_portfolio_return\", \"40/60_portfolio_return\") |>\n",
    "                                                filter(between(year, 1997, 2021))\n",
    "\n",
    "#deleting the percentage unit in the column 60/40_portfolio_return and renaming the 60/40_portfolio_return into 60/40_portfolio_return_percentage\n",
    "sf_fs_portfolio_data_c$'60/40_portfolio_return' = as.numeric(gsub(\"[\\\\%,]\", \"\", sf_fs_portfolio_data_c$'60/40_portfolio_return'))\n",
    "names(sf_fs_portfolio_data_c)[names(sf_fs_portfolio_data_c) == '60/40_portfolio_return'] <- '60/40_portfolio_return_percentage'\n",
    "\n",
    "#deleting the percentage unit in the column 40/60_portfolio_return and renaming the 40/60_portfolio_return into 40/60_portfolio_return_percentage\n",
    "sf_fs_portfolio_data_c$'40/60_portfolio_return' = as.numeric(gsub(\"[\\\\%,]\", \"\", sf_fs_portfolio_data_c$'40/60_portfolio_return'))\n",
    "names(sf_fs_portfolio_data_c)[names(sf_fs_portfolio_data_c) == '40/60_portfolio_return'] <- '40/60_portfolio_return_percentage'\n",
    "\n",
    "#c stands for cleaned\n",
    "sf_fs_portfolio_data_c"
   ]
  },
  {
   "cell_type": "code",
   "execution_count": 9,
   "id": "340e6fa0-cda2-4451-8e95-0c382719263a",
   "metadata": {},
   "outputs": [
    {
     "name": "stderr",
     "output_type": "stream",
     "text": [
      "\u001b[1mRows: \u001b[22m\u001b[34m782\u001b[39m \u001b[1mColumns: \u001b[22m\u001b[34m16\u001b[39m\n",
      "\u001b[36m──\u001b[39m \u001b[1mColumn specification\u001b[22m \u001b[36m────────────────────────────────────────────────────────\u001b[39m\n",
      "\u001b[1mDelimiter:\u001b[22m \",\"\n",
      "\u001b[31mchr\u001b[39m (12): year, X2, growth_portfolio_return, X3, moderate_portfolio_return, ...\n",
      "\u001b[33mlgl\u001b[39m  (4): X13, X14, X15, X16\n",
      "\n",
      "\u001b[36mℹ\u001b[39m Use `spec()` to retrieve the full column specification for this data.\n",
      "\u001b[36mℹ\u001b[39m Specify the column types or set `show_col_types = FALSE` to quiet this message.\n",
      "Warning message in between(year, 1997, 2021):\n",
      "“NAs introduced by coercion”\n"
     ]
    },
    {
     "data": {
      "text/html": [
       "<table class=\"dataframe\">\n",
       "<caption>A tibble: 25 × 4</caption>\n",
       "<thead>\n",
       "\t<tr><th scope=col>year</th><th scope=col>growth_portfolio_return_percentage</th><th scope=col>moderate_portfolio_return_percentage</th><th scope=col>conservative_portfolio_return_percentage</th></tr>\n",
       "\t<tr><th scope=col>&lt;chr&gt;</th><th scope=col>&lt;dbl&gt;</th><th scope=col>&lt;dbl&gt;</th><th scope=col>&lt;dbl&gt;</th></tr>\n",
       "</thead>\n",
       "<tbody>\n",
       "\t<tr><td>1997</td><td> 17.50</td><td> 15.13</td><td> 12.76</td></tr>\n",
       "\t<tr><td>1998</td><td> 18.26</td><td> 15.94</td><td> 13.62</td></tr>\n",
       "\t<tr><td>1999</td><td> 20.79</td><td> 15.63</td><td> 10.47</td></tr>\n",
       "\t<tr><td>2000</td><td> -8.06</td><td> -3.78</td><td>  0.49</td></tr>\n",
       "\t<tr><td>2001</td><td> -9.79</td><td> -5.40</td><td> -1.01</td></tr>\n",
       "\t<tr><td>2002</td><td>-12.99</td><td> -7.07</td><td> -1.15</td></tr>\n",
       "\t<tr><td>2003</td><td> 29.08</td><td> 23.67</td><td> 18.26</td></tr>\n",
       "\t<tr><td>2004</td><td> 13.41</td><td> 11.40</td><td>  9.38</td></tr>\n",
       "\t<tr><td>2005</td><td>  7.68</td><td>  6.02</td><td>  4.36</td></tr>\n",
       "\t<tr><td>2006</td><td> 16.54</td><td> 13.67</td><td> 10.80</td></tr>\n",
       "\t<tr><td>2007</td><td>  8.65</td><td>  8.29</td><td>  7.94</td></tr>\n",
       "\t<tr><td>2008</td><td>-31.14</td><td>-22.77</td><td>-14.41</td></tr>\n",
       "\t<tr><td>2009</td><td> 27.07</td><td> 22.62</td><td> 18.18</td></tr>\n",
       "\t<tr><td>2010</td><td> 13.35</td><td> 11.70</td><td> 10.04</td></tr>\n",
       "\t<tr><td>2011</td><td> -2.22</td><td>  0.04</td><td>  2.29</td></tr>\n",
       "\t<tr><td>2012</td><td> 14.50</td><td> 12.09</td><td>  9.67</td></tr>\n",
       "\t<tr><td>2013</td><td> 21.08</td><td> 15.22</td><td>  9.36</td></tr>\n",
       "\t<tr><td>2014</td><td>  6.21</td><td>  5.83</td><td>  5.44</td></tr>\n",
       "\t<tr><td>2015</td><td> -1.23</td><td> -1.11</td><td> -1.00</td></tr>\n",
       "\t<tr><td>2016</td><td>  8.36</td><td>  6.95</td><td>  5.54</td></tr>\n",
       "\t<tr><td>2017</td><td> 19.53</td><td> 15.78</td><td> 12.03</td></tr>\n",
       "\t<tr><td>2018</td><td> -6.90</td><td> -5.32</td><td> -3.75</td></tr>\n",
       "\t<tr><td>2019</td><td> 23.59</td><td> 19.75</td><td> 15.92</td></tr>\n",
       "\t<tr><td>2020</td><td> 15.74</td><td> 14.00</td><td> 12.26</td></tr>\n",
       "\t<tr><td>2021</td><td> 15.24</td><td> 10.83</td><td>  6.42</td></tr>\n",
       "</tbody>\n",
       "</table>\n"
      ],
      "text/latex": [
       "A tibble: 25 × 4\n",
       "\\begin{tabular}{llll}\n",
       " year & growth\\_portfolio\\_return\\_percentage & moderate\\_portfolio\\_return\\_percentage & conservative\\_portfolio\\_return\\_percentage\\\\\n",
       " <chr> & <dbl> & <dbl> & <dbl>\\\\\n",
       "\\hline\n",
       "\t 1997 &  17.50 &  15.13 &  12.76\\\\\n",
       "\t 1998 &  18.26 &  15.94 &  13.62\\\\\n",
       "\t 1999 &  20.79 &  15.63 &  10.47\\\\\n",
       "\t 2000 &  -8.06 &  -3.78 &   0.49\\\\\n",
       "\t 2001 &  -9.79 &  -5.40 &  -1.01\\\\\n",
       "\t 2002 & -12.99 &  -7.07 &  -1.15\\\\\n",
       "\t 2003 &  29.08 &  23.67 &  18.26\\\\\n",
       "\t 2004 &  13.41 &  11.40 &   9.38\\\\\n",
       "\t 2005 &   7.68 &   6.02 &   4.36\\\\\n",
       "\t 2006 &  16.54 &  13.67 &  10.80\\\\\n",
       "\t 2007 &   8.65 &   8.29 &   7.94\\\\\n",
       "\t 2008 & -31.14 & -22.77 & -14.41\\\\\n",
       "\t 2009 &  27.07 &  22.62 &  18.18\\\\\n",
       "\t 2010 &  13.35 &  11.70 &  10.04\\\\\n",
       "\t 2011 &  -2.22 &   0.04 &   2.29\\\\\n",
       "\t 2012 &  14.50 &  12.09 &   9.67\\\\\n",
       "\t 2013 &  21.08 &  15.22 &   9.36\\\\\n",
       "\t 2014 &   6.21 &   5.83 &   5.44\\\\\n",
       "\t 2015 &  -1.23 &  -1.11 &  -1.00\\\\\n",
       "\t 2016 &   8.36 &   6.95 &   5.54\\\\\n",
       "\t 2017 &  19.53 &  15.78 &  12.03\\\\\n",
       "\t 2018 &  -6.90 &  -5.32 &  -3.75\\\\\n",
       "\t 2019 &  23.59 &  19.75 &  15.92\\\\\n",
       "\t 2020 &  15.74 &  14.00 &  12.26\\\\\n",
       "\t 2021 &  15.24 &  10.83 &   6.42\\\\\n",
       "\\end{tabular}\n"
      ],
      "text/markdown": [
       "\n",
       "A tibble: 25 × 4\n",
       "\n",
       "| year &lt;chr&gt; | growth_portfolio_return_percentage &lt;dbl&gt; | moderate_portfolio_return_percentage &lt;dbl&gt; | conservative_portfolio_return_percentage &lt;dbl&gt; |\n",
       "|---|---|---|---|\n",
       "| 1997 |  17.50 |  15.13 |  12.76 |\n",
       "| 1998 |  18.26 |  15.94 |  13.62 |\n",
       "| 1999 |  20.79 |  15.63 |  10.47 |\n",
       "| 2000 |  -8.06 |  -3.78 |   0.49 |\n",
       "| 2001 |  -9.79 |  -5.40 |  -1.01 |\n",
       "| 2002 | -12.99 |  -7.07 |  -1.15 |\n",
       "| 2003 |  29.08 |  23.67 |  18.26 |\n",
       "| 2004 |  13.41 |  11.40 |   9.38 |\n",
       "| 2005 |   7.68 |   6.02 |   4.36 |\n",
       "| 2006 |  16.54 |  13.67 |  10.80 |\n",
       "| 2007 |   8.65 |   8.29 |   7.94 |\n",
       "| 2008 | -31.14 | -22.77 | -14.41 |\n",
       "| 2009 |  27.07 |  22.62 |  18.18 |\n",
       "| 2010 |  13.35 |  11.70 |  10.04 |\n",
       "| 2011 |  -2.22 |   0.04 |   2.29 |\n",
       "| 2012 |  14.50 |  12.09 |   9.67 |\n",
       "| 2013 |  21.08 |  15.22 |   9.36 |\n",
       "| 2014 |   6.21 |   5.83 |   5.44 |\n",
       "| 2015 |  -1.23 |  -1.11 |  -1.00 |\n",
       "| 2016 |   8.36 |   6.95 |   5.54 |\n",
       "| 2017 |  19.53 |  15.78 |  12.03 |\n",
       "| 2018 |  -6.90 |  -5.32 |  -3.75 |\n",
       "| 2019 |  23.59 |  19.75 |  15.92 |\n",
       "| 2020 |  15.74 |  14.00 |  12.26 |\n",
       "| 2021 |  15.24 |  10.83 |   6.42 |\n",
       "\n"
      ],
      "text/plain": [
       "   year growth_portfolio_return_percentage moderate_portfolio_return_percentage\n",
       "1  1997  17.50                              15.13                              \n",
       "2  1998  18.26                              15.94                              \n",
       "3  1999  20.79                              15.63                              \n",
       "4  2000  -8.06                              -3.78                              \n",
       "5  2001  -9.79                              -5.40                              \n",
       "6  2002 -12.99                              -7.07                              \n",
       "7  2003  29.08                              23.67                              \n",
       "8  2004  13.41                              11.40                              \n",
       "9  2005   7.68                               6.02                              \n",
       "10 2006  16.54                              13.67                              \n",
       "11 2007   8.65                               8.29                              \n",
       "12 2008 -31.14                             -22.77                              \n",
       "13 2009  27.07                              22.62                              \n",
       "14 2010  13.35                              11.70                              \n",
       "15 2011  -2.22                               0.04                              \n",
       "16 2012  14.50                              12.09                              \n",
       "17 2013  21.08                              15.22                              \n",
       "18 2014   6.21                               5.83                              \n",
       "19 2015  -1.23                              -1.11                              \n",
       "20 2016   8.36                               6.95                              \n",
       "21 2017  19.53                              15.78                              \n",
       "22 2018  -6.90                              -5.32                              \n",
       "23 2019  23.59                              19.75                              \n",
       "24 2020  15.74                              14.00                              \n",
       "25 2021  15.24                              10.83                              \n",
       "   conservative_portfolio_return_percentage\n",
       "1   12.76                                  \n",
       "2   13.62                                  \n",
       "3   10.47                                  \n",
       "4    0.49                                  \n",
       "5   -1.01                                  \n",
       "6   -1.15                                  \n",
       "7   18.26                                  \n",
       "8    9.38                                  \n",
       "9    4.36                                  \n",
       "10  10.80                                  \n",
       "11   7.94                                  \n",
       "12 -14.41                                  \n",
       "13  18.18                                  \n",
       "14  10.04                                  \n",
       "15   2.29                                  \n",
       "16   9.67                                  \n",
       "17   9.36                                  \n",
       "18   5.44                                  \n",
       "19  -1.00                                  \n",
       "20   5.54                                  \n",
       "21  12.03                                  \n",
       "22  -3.75                                  \n",
       "23  15.92                                  \n",
       "24  12.26                                  \n",
       "25   6.42                                  "
      ]
     },
     "metadata": {},
     "output_type": "display_data"
    }
   ],
   "source": [
    "#downloading growth, moderate, conservative portfolio data\n",
    "gmc_url <- \"https://raw.githubusercontent.com/Arioniums/DSCI_100_125/main/growth_moderate_conservative_portfolios.csv\"\n",
    "gmc_path <- \"growth_moderate_conservative_portfolios.csv\"\n",
    "download.file(gmc_url, destfile = gmc_path)\n",
    "\n",
    "#importing growth, moderate, conservative portfolio data, selecting for year, growth_portfolio_return, moderate_portfolio_return, conservative_portfolio_return, and filter to only 1997-2021\n",
    "gmc_portfolios_data_c <- read_csv(gmc_path, skip = 3, col_names= c(\"year\",\"X2\",\"growth_portfolio_return\",\"X3\",\"moderate_portfolio_return\",\"X4\",\"conservative_portfolio_return\")) |>\n",
    "                                                select(year, growth_portfolio_return, moderate_portfolio_return, conservative_portfolio_return) |>\n",
    "                                                filter(between(year, 1997, 2021))\n",
    "\n",
    "#deleting the percentage unit in the column growth_portfolio_return and renaming the growth_portfolio_return into growth_portfolio_return_percentage\n",
    "gmc_portfolios_data_c$'growth_portfolio_return' = as.numeric(gsub(\"[\\\\%,]\", \"\", gmc_portfolios_data_c$'growth_portfolio_return'))\n",
    "names(gmc_portfolios_data_c)[names(gmc_portfolios_data_c) == 'growth_portfolio_return'] <- 'growth_portfolio_return_percentage'\n",
    "\n",
    "#deleting the percentage unit in the column moderate_portfolio_return and renaming the moderate_portfolio_return into moderate_portfolio_return_percentage\n",
    "gmc_portfolios_data_c$'moderate_portfolio_return' = as.numeric(gsub(\"[\\\\%,]\", \"\", gmc_portfolios_data_c$'moderate_portfolio_return'))\n",
    "names(gmc_portfolios_data_c)[names(gmc_portfolios_data_c) == 'moderate_portfolio_return'] <- 'moderate_portfolio_return_percentage'\n",
    "\n",
    "#deleting the percentage unit in the column conservative_portfolio_return and renaming the conservative_portfolio_return into conservative_portfolio_return_percentage\n",
    "gmc_portfolios_data_c$'conservative_portfolio_return' = as.numeric(gsub(\"[\\\\%,]\", \"\", gmc_portfolios_data_c$'conservative_portfolio_return'))\n",
    "names(gmc_portfolios_data_c)[names(gmc_portfolios_data_c) == 'conservative_portfolio_return'] <- 'conservative_portfolio_return_percentage'\n",
    "\n",
    "#c stands for cleaned\n",
    "gmc_portfolios_data_c"
   ]
  },
  {
   "cell_type": "code",
   "execution_count": 10,
   "id": "cd006396-2ce0-4afd-b89e-e2fa515f7ca3",
   "metadata": {},
   "outputs": [
    {
     "ename": "ERROR",
     "evalue": "Error in merge(x = inflation_data_c, y = gdp_data_c, by = \"year\"): object 'inflation_data_c' not found\n",
     "output_type": "error",
     "traceback": [
      "Error in merge(x = inflation_data_c, y = gdp_data_c, by = \"year\"): object 'inflation_data_c' not found\nTraceback:\n",
      "1. merge(x = inflation_data_c, y = gdp_data_c, by = \"year\")"
     ]
    }
   ],
   "source": [
    "#merging all cleaned datasets\n",
    "project_ds1 <- merge(\n",
    "                    x = inflation_data_c, \n",
    "                    y = gdp_data_c,\n",
    "                    by = \"year\")\n",
    "project_ds2 <- merge(\n",
    "                    x = project_ds1, \n",
    "                    y = unemployment_data_c,\n",
    "                    by = \"year\")\n",
    "project_ds3 <- merge(\n",
    "                    x = project_ds2, \n",
    "                    y = income_portfolio_data_c,\n",
    "                    by = \"year\")\n",
    "project_ds4 <- merge(\n",
    "                    x = project_ds3, \n",
    "                    y = sf_fs_portfolio_data_c,\n",
    "                    by = \"year\")\n",
    "project_ds_c <- merge(\n",
    "                    x = project_ds4, \n",
    "                    y = gmc_portfolios_data_c,\n",
    "                    by = \"year\")\n",
    "\n",
    "#finding max portfolio return value and name\n",
    "project_ds_c$max_portfolio_return_value <- do.call(pmax, project_ds_c[5:10])\n",
    "project_ds_c$max_portfolio_return_name <- colnames(project_ds_c[5:10])[max.col(project_ds_c[5:10])]\n",
    "\n",
    "#the dataset before selecting process above\n",
    "project_ds_c"
   ]
  },
  {
   "cell_type": "code",
   "execution_count": 9,
   "id": "4e093c29-be41-455f-8c96-efacfe7c4765",
   "metadata": {},
   "outputs": [
    {
     "data": {
      "text/html": [
       "<table class=\"dataframe\">\n",
       "<caption>A data.frame: 25 × 6</caption>\n",
       "<thead>\n",
       "\t<tr><th scope=col>year</th><th scope=col>annual_inflation</th><th scope=col>real_gdp_growth_rate_percentage</th><th scope=col>annual_unemployment_rate</th><th scope=col>max_portfolio_return_value</th><th scope=col>max_portfolio_return_name</th></tr>\n",
       "\t<tr><th scope=col>&lt;chr&gt;</th><th scope=col>&lt;dbl&gt;</th><th scope=col>&lt;dbl&gt;</th><th scope=col>&lt;dbl&gt;</th><th scope=col>&lt;dbl&gt;</th><th scope=col>&lt;chr&gt;</th></tr>\n",
       "</thead>\n",
       "<tbody>\n",
       "\t<tr><td>1997</td><td> 2.3376899</td><td> 4.4</td><td>4.950000</td><td>22.37</td><td>60/40_portfolio_return_percentage </td></tr>\n",
       "\t<tr><td>1998</td><td> 1.5522791</td><td> 4.5</td><td>4.508333</td><td>18.26</td><td>growth_portfolio_return_percentage</td></tr>\n",
       "\t<tr><td>1999</td><td> 2.1880272</td><td> 4.8</td><td>4.216667</td><td>20.79</td><td>growth_portfolio_return_percentage</td></tr>\n",
       "\t<tr><td>2000</td><td> 3.3768573</td><td> 4.1</td><td>3.991667</td><td> 4.77</td><td>income_portfolio_return_percentage</td></tr>\n",
       "\t<tr><td>2001</td><td> 2.8261711</td><td> 1.0</td><td>4.733333</td><td> 3.38</td><td>income_portfolio_return_percentage</td></tr>\n",
       "\t<tr><td>2002</td><td> 1.5860316</td><td> 1.7</td><td>5.775000</td><td> 4.77</td><td>income_portfolio_return_percentage</td></tr>\n",
       "\t<tr><td>2003</td><td> 2.2700950</td><td> 2.8</td><td>5.991667</td><td>29.08</td><td>growth_portfolio_return_percentage</td></tr>\n",
       "\t<tr><td>2004</td><td> 2.6772367</td><td> 3.9</td><td>5.533333</td><td>13.41</td><td>growth_portfolio_return_percentage</td></tr>\n",
       "\t<tr><td>2005</td><td> 3.3927468</td><td> 3.5</td><td>5.066667</td><td> 7.68</td><td>growth_portfolio_return_percentage</td></tr>\n",
       "\t<tr><td>2006</td><td> 3.2259441</td><td> 2.8</td><td>4.616667</td><td>16.54</td><td>growth_portfolio_return_percentage</td></tr>\n",
       "\t<tr><td>2007</td><td> 2.8526725</td><td> 2.0</td><td>4.616667</td><td> 8.65</td><td>growth_portfolio_return_percentage</td></tr>\n",
       "\t<tr><td>2008</td><td> 3.8391003</td><td> 0.1</td><td>5.775000</td><td>-6.04</td><td>income_portfolio_return_percentage</td></tr>\n",
       "\t<tr><td>2009</td><td>-0.3555463</td><td>-2.6</td><td>9.266666</td><td>27.07</td><td>growth_portfolio_return_percentage</td></tr>\n",
       "\t<tr><td>2010</td><td> 1.6400434</td><td> 2.7</td><td>9.616667</td><td>13.35</td><td>growth_portfolio_return_percentage</td></tr>\n",
       "\t<tr><td>2011</td><td> 3.1568416</td><td> 1.5</td><td>8.950000</td><td> 4.92</td><td>40/60_portfolio_return_percentage </td></tr>\n",
       "\t<tr><td>2012</td><td> 2.0693373</td><td> 2.3</td><td>8.066667</td><td>14.50</td><td>growth_portfolio_return_percentage</td></tr>\n",
       "\t<tr><td>2013</td><td> 1.4648327</td><td> 1.8</td><td>7.375000</td><td>21.08</td><td>growth_portfolio_return_percentage</td></tr>\n",
       "\t<tr><td>2014</td><td> 1.6222230</td><td> 2.3</td><td>6.166667</td><td> 9.76</td><td>60/40_portfolio_return_percentage </td></tr>\n",
       "\t<tr><td>2015</td><td> 0.1186271</td><td> 2.7</td><td>5.291667</td><td> 0.30</td><td>60/40_portfolio_return_percentage </td></tr>\n",
       "\t<tr><td>2016</td><td> 1.2615832</td><td> 1.7</td><td>4.866667</td><td> 8.52</td><td>60/40_portfolio_return_percentage </td></tr>\n",
       "\t<tr><td>2017</td><td> 2.1301100</td><td> 2.3</td><td>4.350000</td><td>19.53</td><td>growth_portfolio_return_percentage</td></tr>\n",
       "\t<tr><td>2018</td><td> 2.4425833</td><td> 2.9</td><td>3.900000</td><td>-2.17</td><td>income_portfolio_return_percentage</td></tr>\n",
       "\t<tr><td>2019</td><td> 1.8122101</td><td> 2.3</td><td>3.666667</td><td>23.59</td><td>growth_portfolio_return_percentage</td></tr>\n",
       "\t<tr><td>2020</td><td> 1.2335844</td><td>-3.4</td><td>8.091666</td><td>15.74</td><td>growth_portfolio_return_percentage</td></tr>\n",
       "\t<tr><td>2021</td><td> 4.6978589</td><td> 5.7</td><td>5.366667</td><td>15.24</td><td>growth_portfolio_return_percentage</td></tr>\n",
       "</tbody>\n",
       "</table>\n"
      ],
      "text/latex": [
       "A data.frame: 25 × 6\n",
       "\\begin{tabular}{llllll}\n",
       " year & annual\\_inflation & real\\_gdp\\_growth\\_rate\\_percentage & annual\\_unemployment\\_rate & max\\_portfolio\\_return\\_value & max\\_portfolio\\_return\\_name\\\\\n",
       " <chr> & <dbl> & <dbl> & <dbl> & <dbl> & <chr>\\\\\n",
       "\\hline\n",
       "\t 1997 &  2.3376899 &  4.4 & 4.950000 & 22.37 & 60/40\\_portfolio\\_return\\_percentage \\\\\n",
       "\t 1998 &  1.5522791 &  4.5 & 4.508333 & 18.26 & growth\\_portfolio\\_return\\_percentage\\\\\n",
       "\t 1999 &  2.1880272 &  4.8 & 4.216667 & 20.79 & growth\\_portfolio\\_return\\_percentage\\\\\n",
       "\t 2000 &  3.3768573 &  4.1 & 3.991667 &  4.77 & income\\_portfolio\\_return\\_percentage\\\\\n",
       "\t 2001 &  2.8261711 &  1.0 & 4.733333 &  3.38 & income\\_portfolio\\_return\\_percentage\\\\\n",
       "\t 2002 &  1.5860316 &  1.7 & 5.775000 &  4.77 & income\\_portfolio\\_return\\_percentage\\\\\n",
       "\t 2003 &  2.2700950 &  2.8 & 5.991667 & 29.08 & growth\\_portfolio\\_return\\_percentage\\\\\n",
       "\t 2004 &  2.6772367 &  3.9 & 5.533333 & 13.41 & growth\\_portfolio\\_return\\_percentage\\\\\n",
       "\t 2005 &  3.3927468 &  3.5 & 5.066667 &  7.68 & growth\\_portfolio\\_return\\_percentage\\\\\n",
       "\t 2006 &  3.2259441 &  2.8 & 4.616667 & 16.54 & growth\\_portfolio\\_return\\_percentage\\\\\n",
       "\t 2007 &  2.8526725 &  2.0 & 4.616667 &  8.65 & growth\\_portfolio\\_return\\_percentage\\\\\n",
       "\t 2008 &  3.8391003 &  0.1 & 5.775000 & -6.04 & income\\_portfolio\\_return\\_percentage\\\\\n",
       "\t 2009 & -0.3555463 & -2.6 & 9.266666 & 27.07 & growth\\_portfolio\\_return\\_percentage\\\\\n",
       "\t 2010 &  1.6400434 &  2.7 & 9.616667 & 13.35 & growth\\_portfolio\\_return\\_percentage\\\\\n",
       "\t 2011 &  3.1568416 &  1.5 & 8.950000 &  4.92 & 40/60\\_portfolio\\_return\\_percentage \\\\\n",
       "\t 2012 &  2.0693373 &  2.3 & 8.066667 & 14.50 & growth\\_portfolio\\_return\\_percentage\\\\\n",
       "\t 2013 &  1.4648327 &  1.8 & 7.375000 & 21.08 & growth\\_portfolio\\_return\\_percentage\\\\\n",
       "\t 2014 &  1.6222230 &  2.3 & 6.166667 &  9.76 & 60/40\\_portfolio\\_return\\_percentage \\\\\n",
       "\t 2015 &  0.1186271 &  2.7 & 5.291667 &  0.30 & 60/40\\_portfolio\\_return\\_percentage \\\\\n",
       "\t 2016 &  1.2615832 &  1.7 & 4.866667 &  8.52 & 60/40\\_portfolio\\_return\\_percentage \\\\\n",
       "\t 2017 &  2.1301100 &  2.3 & 4.350000 & 19.53 & growth\\_portfolio\\_return\\_percentage\\\\\n",
       "\t 2018 &  2.4425833 &  2.9 & 3.900000 & -2.17 & income\\_portfolio\\_return\\_percentage\\\\\n",
       "\t 2019 &  1.8122101 &  2.3 & 3.666667 & 23.59 & growth\\_portfolio\\_return\\_percentage\\\\\n",
       "\t 2020 &  1.2335844 & -3.4 & 8.091666 & 15.74 & growth\\_portfolio\\_return\\_percentage\\\\\n",
       "\t 2021 &  4.6978589 &  5.7 & 5.366667 & 15.24 & growth\\_portfolio\\_return\\_percentage\\\\\n",
       "\\end{tabular}\n"
      ],
      "text/markdown": [
       "\n",
       "A data.frame: 25 × 6\n",
       "\n",
       "| year &lt;chr&gt; | annual_inflation &lt;dbl&gt; | real_gdp_growth_rate_percentage &lt;dbl&gt; | annual_unemployment_rate &lt;dbl&gt; | max_portfolio_return_value &lt;dbl&gt; | max_portfolio_return_name &lt;chr&gt; |\n",
       "|---|---|---|---|---|---|\n",
       "| 1997 |  2.3376899 |  4.4 | 4.950000 | 22.37 | 60/40_portfolio_return_percentage  |\n",
       "| 1998 |  1.5522791 |  4.5 | 4.508333 | 18.26 | growth_portfolio_return_percentage |\n",
       "| 1999 |  2.1880272 |  4.8 | 4.216667 | 20.79 | growth_portfolio_return_percentage |\n",
       "| 2000 |  3.3768573 |  4.1 | 3.991667 |  4.77 | income_portfolio_return_percentage |\n",
       "| 2001 |  2.8261711 |  1.0 | 4.733333 |  3.38 | income_portfolio_return_percentage |\n",
       "| 2002 |  1.5860316 |  1.7 | 5.775000 |  4.77 | income_portfolio_return_percentage |\n",
       "| 2003 |  2.2700950 |  2.8 | 5.991667 | 29.08 | growth_portfolio_return_percentage |\n",
       "| 2004 |  2.6772367 |  3.9 | 5.533333 | 13.41 | growth_portfolio_return_percentage |\n",
       "| 2005 |  3.3927468 |  3.5 | 5.066667 |  7.68 | growth_portfolio_return_percentage |\n",
       "| 2006 |  3.2259441 |  2.8 | 4.616667 | 16.54 | growth_portfolio_return_percentage |\n",
       "| 2007 |  2.8526725 |  2.0 | 4.616667 |  8.65 | growth_portfolio_return_percentage |\n",
       "| 2008 |  3.8391003 |  0.1 | 5.775000 | -6.04 | income_portfolio_return_percentage |\n",
       "| 2009 | -0.3555463 | -2.6 | 9.266666 | 27.07 | growth_portfolio_return_percentage |\n",
       "| 2010 |  1.6400434 |  2.7 | 9.616667 | 13.35 | growth_portfolio_return_percentage |\n",
       "| 2011 |  3.1568416 |  1.5 | 8.950000 |  4.92 | 40/60_portfolio_return_percentage  |\n",
       "| 2012 |  2.0693373 |  2.3 | 8.066667 | 14.50 | growth_portfolio_return_percentage |\n",
       "| 2013 |  1.4648327 |  1.8 | 7.375000 | 21.08 | growth_portfolio_return_percentage |\n",
       "| 2014 |  1.6222230 |  2.3 | 6.166667 |  9.76 | 60/40_portfolio_return_percentage  |\n",
       "| 2015 |  0.1186271 |  2.7 | 5.291667 |  0.30 | 60/40_portfolio_return_percentage  |\n",
       "| 2016 |  1.2615832 |  1.7 | 4.866667 |  8.52 | 60/40_portfolio_return_percentage  |\n",
       "| 2017 |  2.1301100 |  2.3 | 4.350000 | 19.53 | growth_portfolio_return_percentage |\n",
       "| 2018 |  2.4425833 |  2.9 | 3.900000 | -2.17 | income_portfolio_return_percentage |\n",
       "| 2019 |  1.8122101 |  2.3 | 3.666667 | 23.59 | growth_portfolio_return_percentage |\n",
       "| 2020 |  1.2335844 | -3.4 | 8.091666 | 15.74 | growth_portfolio_return_percentage |\n",
       "| 2021 |  4.6978589 |  5.7 | 5.366667 | 15.24 | growth_portfolio_return_percentage |\n",
       "\n"
      ],
      "text/plain": [
       "   year annual_inflation real_gdp_growth_rate_percentage\n",
       "1  1997  2.3376899        4.4                           \n",
       "2  1998  1.5522791        4.5                           \n",
       "3  1999  2.1880272        4.8                           \n",
       "4  2000  3.3768573        4.1                           \n",
       "5  2001  2.8261711        1.0                           \n",
       "6  2002  1.5860316        1.7                           \n",
       "7  2003  2.2700950        2.8                           \n",
       "8  2004  2.6772367        3.9                           \n",
       "9  2005  3.3927468        3.5                           \n",
       "10 2006  3.2259441        2.8                           \n",
       "11 2007  2.8526725        2.0                           \n",
       "12 2008  3.8391003        0.1                           \n",
       "13 2009 -0.3555463       -2.6                           \n",
       "14 2010  1.6400434        2.7                           \n",
       "15 2011  3.1568416        1.5                           \n",
       "16 2012  2.0693373        2.3                           \n",
       "17 2013  1.4648327        1.8                           \n",
       "18 2014  1.6222230        2.3                           \n",
       "19 2015  0.1186271        2.7                           \n",
       "20 2016  1.2615832        1.7                           \n",
       "21 2017  2.1301100        2.3                           \n",
       "22 2018  2.4425833        2.9                           \n",
       "23 2019  1.8122101        2.3                           \n",
       "24 2020  1.2335844       -3.4                           \n",
       "25 2021  4.6978589        5.7                           \n",
       "   annual_unemployment_rate max_portfolio_return_value\n",
       "1  4.950000                 22.37                     \n",
       "2  4.508333                 18.26                     \n",
       "3  4.216667                 20.79                     \n",
       "4  3.991667                  4.77                     \n",
       "5  4.733333                  3.38                     \n",
       "6  5.775000                  4.77                     \n",
       "7  5.991667                 29.08                     \n",
       "8  5.533333                 13.41                     \n",
       "9  5.066667                  7.68                     \n",
       "10 4.616667                 16.54                     \n",
       "11 4.616667                  8.65                     \n",
       "12 5.775000                 -6.04                     \n",
       "13 9.266666                 27.07                     \n",
       "14 9.616667                 13.35                     \n",
       "15 8.950000                  4.92                     \n",
       "16 8.066667                 14.50                     \n",
       "17 7.375000                 21.08                     \n",
       "18 6.166667                  9.76                     \n",
       "19 5.291667                  0.30                     \n",
       "20 4.866667                  8.52                     \n",
       "21 4.350000                 19.53                     \n",
       "22 3.900000                 -2.17                     \n",
       "23 3.666667                 23.59                     \n",
       "24 8.091666                 15.74                     \n",
       "25 5.366667                 15.24                     \n",
       "   max_portfolio_return_name         \n",
       "1  60/40_portfolio_return_percentage \n",
       "2  growth_portfolio_return_percentage\n",
       "3  growth_portfolio_return_percentage\n",
       "4  income_portfolio_return_percentage\n",
       "5  income_portfolio_return_percentage\n",
       "6  income_portfolio_return_percentage\n",
       "7  growth_portfolio_return_percentage\n",
       "8  growth_portfolio_return_percentage\n",
       "9  growth_portfolio_return_percentage\n",
       "10 growth_portfolio_return_percentage\n",
       "11 growth_portfolio_return_percentage\n",
       "12 income_portfolio_return_percentage\n",
       "13 growth_portfolio_return_percentage\n",
       "14 growth_portfolio_return_percentage\n",
       "15 40/60_portfolio_return_percentage \n",
       "16 growth_portfolio_return_percentage\n",
       "17 growth_portfolio_return_percentage\n",
       "18 60/40_portfolio_return_percentage \n",
       "19 60/40_portfolio_return_percentage \n",
       "20 60/40_portfolio_return_percentage \n",
       "21 growth_portfolio_return_percentage\n",
       "22 income_portfolio_return_percentage\n",
       "23 growth_portfolio_return_percentage\n",
       "24 growth_portfolio_return_percentage\n",
       "25 growth_portfolio_return_percentage"
      ]
     },
     "metadata": {},
     "output_type": "display_data"
    }
   ],
   "source": [
    "#select for year, annual_inflation, real_gdp_growth_rate, annual_unemployment_rate, max_portfolio_return_value, max_portfolio_return_name\n",
    "project_ds <- select(project_ds_c, year, annual_inflation, real_gdp_growth_rate_percentage, annual_unemployment_rate, max_portfolio_return_value, max_portfolio_return_name)\n",
    "\n",
    "#Final data set, years will be deleted for training and testing\n",
    "project_ds\n",
    "\n",
    "#Our table provides information about the top performing investment portfolios for given year from 1997 to 2021. The names of each portfolio was selected based on comparison analysis of 6 different portfolios.\n",
    "#The very last column (max_portfolio_return_name) shows the name of protfolio with maximum return rate. \n",
    "\n",
    "#all of the variables are in yearly figures. It's measurements are in percentages.\n",
    "\n",
    "#With the classification algorithm, we will be spliting using initial_split to split the data to be used for analysis and then to be used to for checking the code."
   ]
  },
  {
   "cell_type": "code",
   "execution_count": 10,
   "id": "7a10cd26-7966-49d8-aad9-7b8d424674b6",
   "metadata": {},
   "outputs": [],
   "source": [
    "final_dataframe<-collect(project_ds)\n",
    "write_csv(final_dataframe,\"final_data.csv\")\n"
   ]
  },
  {
   "cell_type": "markdown",
   "id": "f12c1310-9051-40ea-bcd6-ee1d770232c6",
   "metadata": {},
   "source": [
    "## Methods\n",
    "___"
   ]
  },
  {
   "cell_type": "markdown",
   "id": "f2e2719d-38d1-4066-93d9-fd18b0902807",
   "metadata": {},
   "source": [
    "* We will conduct our data analysis by first dividing our data into **training data** and **testing data**. The class is known for our training data which includes the observations. This will be used as a basis for prediction for our classifier. Using the classifier, we can predict the class for the testing data whose classes are unknown.\n",
    "* We’ll be using the **K-Nearest Neighbor Classification algorithm** from the parsnip R package in tidymodels, in order to make predictions.\n",
    "    * We will use cross-validation to derive the best value to use as k.\n",
    "    * We will be defining a model specification for the K-nearest neighbour and fit the model on the data by passing the model specification and data set to a fit function.\n",
    "    * In the same step, we will specify the target variables (i.e, investment portfolio) and predictors that we are going to use (GDP, Inflation and Unemployment.)\n",
    "* Finally, we’ll use the predict function to predict the best investment portfolio.\n",
    "* We will visualize the result by:\n",
    "    * Plotting a line graph with Returns in the y-axis and Time in the x-axis and factored by Portfolio.\n",
    "    * If data permits, we will also produce either a KNN or OLS regression in order to predict annual returns based on the mentioned explanatory variables. The type of regression used will be determined by whichever provides the lowest RMSPE.\n"
   ]
  },
  {
   "cell_type": "markdown",
   "id": "47782bf4-1825-43f3-9820-a7700692409b",
   "metadata": {},
   "source": [
    "## Expected outcomes and significance\n",
    "___"
   ]
  },
  {
   "cell_type": "markdown",
   "id": "cd8c2d62-c2a7-4a75-ba10-4d97c592c7d5",
   "metadata": {},
   "source": [
    "We expect to find which investment portfolio would provide you with the highest returns for a given set of assumptions/expectations about annual US unemployment rates, inflation rates, and real GDP growth rates; these are our explanatory variables of choice. After building the knn classification algorithm that provides the best portfolio under specific inflation, real GDP, and unemployment assumptions, we will then be able to plot the return of each of the six portfolios against each explanatory variable; this process involves graphing. Our findings would demonstrate the relationship each variable has with each portfolio, associating the impact of inflation, real GDP, and unemployment on the aforementioned investment portfolios. Having this association will provide us with the ability to make educated guesses regarding the future performance of a given portfolio. The ability to predict the outcome of portfolios presents us with many questions. For instance, are there any other portfolios that would perform better in different economic environments, and what composition would yield the highest returns? What would our model predict if we used portfolios that use more complex financial products beyond mutual funds or exchange traded funds?"
   ]
  },
  {
   "cell_type": "code",
   "execution_count": null,
   "id": "7be00406-f238-4a89-ad77-684ecdd1dd41",
   "metadata": {},
   "outputs": [],
   "source": []
  }
 ],
 "metadata": {
  "kernelspec": {
   "display_name": "R",
   "language": "R",
   "name": "ir"
  },
  "language_info": {
   "codemirror_mode": "r",
   "file_extension": ".r",
   "mimetype": "text/x-r-source",
   "name": "R",
   "pygments_lexer": "r",
   "version": "4.1.3"
  },
  "toc-autonumbering": true,
  "toc-showcode": false,
  "toc-showmarkdowntxt": false,
  "toc-showtags": false
 },
 "nbformat": 4,
 "nbformat_minor": 5
}
