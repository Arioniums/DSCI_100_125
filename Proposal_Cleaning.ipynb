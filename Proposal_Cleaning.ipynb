{
 "cells": [
  {
   "cell_type": "markdown",
   "id": "d96f3124-d17f-4682-9649-24d38aa47758",
   "metadata": {},
   "source": [
    "DSCI 100 001 Group 125 Data Cleaning"
   ]
  },
  {
   "cell_type": "code",
   "execution_count": null,
   "id": "e097e450-90c7-4b93-928b-41d2b57709da",
   "metadata": {},
   "outputs": [],
   "source": []
  }
 ],
 "metadata": {
  "kernelspec": {
   "display_name": "R",
   "language": "R",
   "name": "ir"
  },
  "language_info": {
   "codemirror_mode": "r",
   "file_extension": ".r",
   "mimetype": "text/x-r-source",
   "name": "R",
   "pygments_lexer": "r",
   "version": "4.1.3"
  }
 },
 "nbformat": 4,
 "nbformat_minor": 5
}
