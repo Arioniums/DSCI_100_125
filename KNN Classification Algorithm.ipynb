{
 "cells": [
  {
   "cell_type": "code",
   "execution_count": 3,
   "id": "77928846-f330-43cd-9c2b-66918f1ac32a",
   "metadata": {},
   "outputs": [
    {
     "ename": "ERROR",
     "evalue": "Error: package or namespace load failed for ‘tidyverse’ in loadNamespace(j <- i[[1L]], c(lib.loc, .libPaths()), versionCheck = vI[[j]]):\n there is no package called ‘tidyr’\n",
     "output_type": "error",
     "traceback": [
      "Error: package or namespace load failed for ‘tidyverse’ in loadNamespace(j <- i[[1L]], c(lib.loc, .libPaths()), versionCheck = vI[[j]]):\n there is no package called ‘tidyr’\nTraceback:\n",
      "1. library(tidyverse)",
      "2. tryCatch({\n .     attr(package, \"LibPath\") <- which.lib.loc\n .     ns <- loadNamespace(package, lib.loc)\n .     env <- attachNamespace(ns, pos = pos, deps, exclude, include.only)\n . }, error = function(e) {\n .     P <- if (!is.null(cc <- conditionCall(e))) \n .         paste(\" in\", deparse(cc)[1L])\n .     else \"\"\n .     msg <- gettextf(\"package or namespace load failed for %s%s:\\n %s\", \n .         sQuote(package), P, conditionMessage(e))\n .     if (logical.return && !quietly) \n .         message(paste(\"Error:\", msg), domain = NA)\n .     else stop(msg, call. = FALSE, domain = NA)\n . })",
      "3. tryCatchList(expr, classes, parentenv, handlers)",
      "4. tryCatchOne(expr, names, parentenv, handlers[[1L]])",
      "5. value[[3L]](cond)",
      "6. stop(msg, call. = FALSE, domain = NA)"
     ]
    }
   ],
   "source": [
    "##before continuing the following packages need to be runned\n",
    "library(tidyverse)\n",
    "library(repr)\n",
    "library(tidymodels)\n",
    "options(repr.matrix.max.rows = 6)\n",
    "source('tests.R')\n",
    "source('cleanup.R')"
   ]
  },
  {
   "cell_type": "code",
   "execution_count": 2,
   "id": "35a8ec18-8db4-44de-89f2-96ede365685c",
   "metadata": {},
   "outputs": [
    {
     "ename": "ERROR",
     "evalue": "Error in mutate(read_csv(\"final_data.csv\"), max_portfolio_return_name = as_factor(max_portfolio_return_name)): could not find function \"mutate\"\n",
     "output_type": "error",
     "traceback": [
      "Error in mutate(read_csv(\"final_data.csv\"), max_portfolio_return_name = as_factor(max_portfolio_return_name)): could not find function \"mutate\"\nTraceback:\n"
     ]
    }
   ],
   "source": [
    "portfolio_data_raw <- read_csv(\"final_data.csv\")|>\n",
    "mutate(max_portfolio_return_name = as_factor(max_portfolio_return_name))\n",
    "portfolio_data_raw\n",
    "\n",
    "portfolio_data <- read_csv(\"final_data.csv\")|>\n",
    "mutate(max_portfolio_return_name = as_factor(max_portfolio_return_name))|>\n",
    "select(-year, -max_portfolio_return_value)\n",
    "portfolio_data"
   ]
  },
  {
   "cell_type": "code",
   "execution_count": 4,
   "id": "1a3c8a24-2013-4e09-b75f-ed7239d12b95",
   "metadata": {},
   "outputs": [
    {
     "ename": "ERROR",
     "evalue": "Error in nrow(portfolio_data): object 'portfolio_data' not found\n",
     "output_type": "error",
     "traceback": [
      "Error in nrow(portfolio_data): object 'portfolio_data' not found\nTraceback:\n",
      "1. nrow(portfolio_data)"
     ]
    }
   ],
   "source": [
    "#exloring our data:\n",
    "\n",
    "num_obs <- nrow(portfolio_data)\n",
    "\n",
    "portfolio_data |>\n",
    "group_by(max_portfolio_return_name) |>\n",
    "summarize(count = n(), percentage = n() / num_obs * 100)\n",
    "\n",
    "#data seems to have too much \"growth_portfolio\" labels. Thus, rebalancing of classes could help here."
   ]
  },
  {
   "cell_type": "code",
   "execution_count": null,
   "id": "b351c8a1-8a93-472b-8940-18348c1680b3",
   "metadata": {},
   "outputs": [],
   "source": [
    "set.seed(9999) #ensuring reproducibility\n",
    "options(repr.plot.height = 5, repr.plot.width = 6)\n",
    "\n",
    "portfolio_split <- initial_split(portfolio_data, prop = 0.75, strata = max_portfolio_return_name)\n",
    "portfolio_train <- training(portfolio_split)\n",
    "portfolio_test <- testing(portfolio_split) "
   ]
  },
  {
   "cell_type": "code",
   "execution_count": null,
   "id": "77a32ce3-1107-4d83-b58b-6c1acf3f78b8",
   "metadata": {},
   "outputs": [],
   "source": [
    "knn_recipe <- recipe(max_portfolio_return_name ~ annual_inflation + real_gdp_growth_rate_percentage + annual_unemployment_rate, data = portfolio_train) |>\n",
    "    step_center(all_predictors()) |>\n",
    "    step_scale (all_predictors())"
   ]
  },
  {
   "cell_type": "code",
   "execution_count": null,
   "id": "9cf64d16-0e7a-447c-be51-98bea5809808",
   "metadata": {},
   "outputs": [],
   "source": [
    "knn_tune <- nearest_neighbor(weight_func = \"rectangular\", neighbors = tune()) |> \n",
    "set_engine(\"kknn\") |>\n",
    "set_mode(\"classification\") "
   ]
  },
  {
   "cell_type": "code",
   "execution_count": null,
   "id": "483dea26-ee60-454b-8e0f-02fd9d5a1623",
   "metadata": {},
   "outputs": [],
   "source": [
    "set.seed(9999) #ensuring reproducibility\n",
    "\n",
    "knn_vfold <- vfold_cv(portfolio_train, v = 5, strata = max_portfolio_return_name)\n",
    "gridvals <- tibble(neighbors = seq(from = 1, to = 15))\n",
    "\n",
    "knn_results <- workflow() |>\n",
    "  add_recipe(knn_recipe) |>\n",
    "  add_model(knn_tune) |>\n",
    "  tune_grid(resamples = knn_vfold, grid = gridvals) |>\n",
    "  collect_metrics() \n",
    "\n",
    "accuracies <- knn_results |> \n",
    "       filter(.metric == \"accuracy\")\n",
    "\n",
    "cross_val_plot <- ggplot(accuracies, aes(x = neighbors, y = mean))+\n",
    "       geom_point() +\n",
    "       geom_line() +\n",
    "       labs(x = \"Neighbors\", y = \"Accuracy Estimate\")\n",
    "cross_val_plot                                                                     "
   ]
  },
  {
   "cell_type": "code",
   "execution_count": null,
   "id": "3ed1bfc3-e40d-497b-abe0-4c4809c51fea",
   "metadata": {},
   "outputs": [],
   "source": [
    "# based on the plot,  we will pick K=8 because it the median neighbor between the equal-accuracy-range of K=4-12. choosing k=8 ensures that going a bit to the righ or left leaves the accuracy estimate intact\n",
    "# We certainly believe that in order to enhance our model, more data should be collected for each variable. Unfortunatly, our data was restricted for data from 1997-2021. \n",
    "\n",
    "knn_spec <- nearest_neighbor(weight_func = \"rectangular\", neighbors = 8) |>\n",
    "set_engine(\"kknn\") |>\n",
    "set_mode(\"classification\")\n",
    "\n",
    "knn_fit <- workflow() |>\n",
    "add_recipe(knn_recipe) |>\n",
    "add_model(knn_spec) |>\n",
    "fit(data = portfolio_train)"
   ]
  },
  {
   "cell_type": "code",
   "execution_count": null,
   "id": "28f1d673-9b56-48d6-82f3-5b7226d41540",
   "metadata": {},
   "outputs": [],
   "source": [
    "#testing model predictions with testing set\n",
    "\n",
    "set.seed(9999) #ensuring reproducibility\n",
    "\n",
    "test_predictions <- predict(knn_fit,portfolio_test) |>\n",
    "bind_cols(portfolio_test)\n",
    "\n",
    "knn_metrics <- test_predictions |>\n",
    "metrics(truth = max_portfolio_return_name, estimate = .pred_class)\n",
    "knn_metrics\n",
    "\n",
    "#accuracy seems to improve a bit (from 70% up to ~71%) when applying model to testing dataset"
   ]
  },
  {
   "cell_type": "code",
   "execution_count": null,
   "id": "6b424649-7145-404e-8abe-d2c2ad866f0d",
   "metadata": {},
   "outputs": [],
   "source": [
    "#This is the new observation to predict\n",
    "\n",
    "new_economic_environment_1 <- tibble(annual_inflation = 1, real_gdp_growth_rate_percentage = 2.3, annual_unemployment_rate = 4)\n",
    "\n",
    "portfolio_prediction <- predict(knn_fit, new_economic_environment_1)\n",
    "portfolio_prediction\n",
    "\n",
    "new_economic_environment_2 <- tibble(annual_inflation = 8, real_gdp_growth_rate_percentage = 2, annual_unemployment_rate = 4)\n",
    "\n",
    "portfolio_prediction <- predict(knn_fit, new_economic_environment_2)\n",
    "portfolio_prediction\n",
    "    \n",
    "    "
   ]
  },
  {
   "cell_type": "code",
   "execution_count": null,
   "id": "9bf1eb13-ba5f-4e0a-9213-784d3f3593c3",
   "metadata": {},
   "outputs": [],
   "source": []
  }
 ],
 "metadata": {
  "kernelspec": {
   "display_name": "R",
   "language": "R",
   "name": "ir"
  },
  "language_info": {
   "codemirror_mode": "r",
   "file_extension": ".r",
   "mimetype": "text/x-r-source",
   "name": "R",
   "pygments_lexer": "r",
   "version": "4.1.3"
  }
 },
 "nbformat": 4,
 "nbformat_minor": 5
}
