{
 "cells": [
  {
   "cell_type": "code",
   "execution_count": 1,
   "id": "77928846-f330-43cd-9c2b-66918f1ac32a",
   "metadata": {},
   "outputs": [
    {
     "name": "stderr",
     "output_type": "stream",
     "text": [
      "── \u001b[1mAttaching packages\u001b[22m ─────────────────────────────────────── tidyverse 1.3.1 ──\n",
      "\n",
      "\u001b[32m✔\u001b[39m \u001b[34mggplot2\u001b[39m 3.3.6     \u001b[32m✔\u001b[39m \u001b[34mpurrr  \u001b[39m 0.3.4\n",
      "\u001b[32m✔\u001b[39m \u001b[34mtibble \u001b[39m 3.1.7     \u001b[32m✔\u001b[39m \u001b[34mdplyr  \u001b[39m 1.0.9\n",
      "\u001b[32m✔\u001b[39m \u001b[34mtidyr  \u001b[39m 1.2.0     \u001b[32m✔\u001b[39m \u001b[34mstringr\u001b[39m 1.4.0\n",
      "\u001b[32m✔\u001b[39m \u001b[34mreadr  \u001b[39m 2.1.2     \u001b[32m✔\u001b[39m \u001b[34mforcats\u001b[39m 0.5.1\n",
      "\n",
      "── \u001b[1mConflicts\u001b[22m ────────────────────────────────────────── tidyverse_conflicts() ──\n",
      "\u001b[31m✖\u001b[39m \u001b[34mdplyr\u001b[39m::\u001b[32mfilter()\u001b[39m masks \u001b[34mstats\u001b[39m::filter()\n",
      "\u001b[31m✖\u001b[39m \u001b[34mdplyr\u001b[39m::\u001b[32mlag()\u001b[39m    masks \u001b[34mstats\u001b[39m::lag()\n",
      "\n",
      "── \u001b[1mAttaching packages\u001b[22m ────────────────────────────────────── tidymodels 1.0.0 ──\n",
      "\n",
      "\u001b[32m✔\u001b[39m \u001b[34mbroom       \u001b[39m 1.0.0     \u001b[32m✔\u001b[39m \u001b[34mrsample     \u001b[39m 1.0.0\n",
      "\u001b[32m✔\u001b[39m \u001b[34mdials       \u001b[39m 1.0.0     \u001b[32m✔\u001b[39m \u001b[34mtune        \u001b[39m 1.0.0\n",
      "\u001b[32m✔\u001b[39m \u001b[34minfer       \u001b[39m 1.0.2     \u001b[32m✔\u001b[39m \u001b[34mworkflows   \u001b[39m 1.0.0\n",
      "\u001b[32m✔\u001b[39m \u001b[34mmodeldata   \u001b[39m 1.0.0     \u001b[32m✔\u001b[39m \u001b[34mworkflowsets\u001b[39m 1.0.0\n",
      "\u001b[32m✔\u001b[39m \u001b[34mparsnip     \u001b[39m 1.0.0     \u001b[32m✔\u001b[39m \u001b[34myardstick   \u001b[39m 1.0.0\n",
      "\u001b[32m✔\u001b[39m \u001b[34mrecipes     \u001b[39m 1.0.1     \n",
      "\n",
      "── \u001b[1mConflicts\u001b[22m ───────────────────────────────────────── tidymodels_conflicts() ──\n",
      "\u001b[31m✖\u001b[39m \u001b[34mscales\u001b[39m::\u001b[32mdiscard()\u001b[39m masks \u001b[34mpurrr\u001b[39m::discard()\n",
      "\u001b[31m✖\u001b[39m \u001b[34mdplyr\u001b[39m::\u001b[32mfilter()\u001b[39m   masks \u001b[34mstats\u001b[39m::filter()\n",
      "\u001b[31m✖\u001b[39m \u001b[34mrecipes\u001b[39m::\u001b[32mfixed()\u001b[39m  masks \u001b[34mstringr\u001b[39m::fixed()\n",
      "\u001b[31m✖\u001b[39m \u001b[34mdplyr\u001b[39m::\u001b[32mlag()\u001b[39m      masks \u001b[34mstats\u001b[39m::lag()\n",
      "\u001b[31m✖\u001b[39m \u001b[34myardstick\u001b[39m::\u001b[32mspec()\u001b[39m masks \u001b[34mreadr\u001b[39m::spec()\n",
      "\u001b[31m✖\u001b[39m \u001b[34mrecipes\u001b[39m::\u001b[32mstep()\u001b[39m   masks \u001b[34mstats\u001b[39m::step()\n",
      "\u001b[34m•\u001b[39m Search for functions across packages at \u001b[32mhttps://www.tidymodels.org/find/\u001b[39m\n",
      "\n"
     ]
    }
   ],
   "source": [
    "##before continuing the following packages need to be runned\n",
    "library(tidyverse)\n",
    "library(repr)\n",
    "library(tidymodels)\n",
    "options(repr.matrix.max.rows = 6)"
   ]
  },
  {
   "cell_type": "code",
   "execution_count": 2,
   "id": "35a8ec18-8db4-44de-89f2-96ede365685c",
   "metadata": {},
   "outputs": [
    {
     "name": "stderr",
     "output_type": "stream",
     "text": [
      "\u001b[1mRows: \u001b[22m\u001b[34m25\u001b[39m \u001b[1mColumns: \u001b[22m\u001b[34m6\u001b[39m\n",
      "\u001b[36m──\u001b[39m \u001b[1mColumn specification\u001b[22m \u001b[36m────────────────────────────────────────────────────────\u001b[39m\n",
      "\u001b[1mDelimiter:\u001b[22m \",\"\n",
      "\u001b[31mchr\u001b[39m (1): max_portfolio_return_name\n",
      "\u001b[32mdbl\u001b[39m (5): year, annual_inflation, real_gdp_growth_rate_percentage, annual_une...\n",
      "\n",
      "\u001b[36mℹ\u001b[39m Use `spec()` to retrieve the full column specification for this data.\n",
      "\u001b[36mℹ\u001b[39m Specify the column types or set `show_col_types = FALSE` to quiet this message.\n"
     ]
    },
    {
     "data": {
      "text/html": [
       "<table class=\"dataframe\">\n",
       "<caption>A tibble: 25 × 4</caption>\n",
       "<thead>\n",
       "\t<tr><th scope=col>annual_inflation</th><th scope=col>real_gdp_growth_rate_percentage</th><th scope=col>annual_unemployment_rate</th><th scope=col>max_portfolio_return_name</th></tr>\n",
       "\t<tr><th scope=col>&lt;dbl&gt;</th><th scope=col>&lt;dbl&gt;</th><th scope=col>&lt;dbl&gt;</th><th scope=col>&lt;fct&gt;</th></tr>\n",
       "</thead>\n",
       "<tbody>\n",
       "\t<tr><td>2.337690</td><td>4.4</td><td>4.950000</td><td>60/40_portfolio_return_percentage </td></tr>\n",
       "\t<tr><td>1.552279</td><td>4.5</td><td>4.508333</td><td>growth_portfolio_return_percentage</td></tr>\n",
       "\t<tr><td>2.188027</td><td>4.8</td><td>4.216667</td><td>growth_portfolio_return_percentage</td></tr>\n",
       "\t<tr><td>⋮</td><td>⋮</td><td>⋮</td><td>⋮</td></tr>\n",
       "\t<tr><td>1.812210</td><td> 2.3</td><td>3.666667</td><td>growth_portfolio_return_percentage</td></tr>\n",
       "\t<tr><td>1.233584</td><td>-3.4</td><td>8.091666</td><td>growth_portfolio_return_percentage</td></tr>\n",
       "\t<tr><td>4.697859</td><td> 5.7</td><td>5.366667</td><td>growth_portfolio_return_percentage</td></tr>\n",
       "</tbody>\n",
       "</table>\n"
      ],
      "text/latex": [
       "A tibble: 25 × 4\n",
       "\\begin{tabular}{llll}\n",
       " annual\\_inflation & real\\_gdp\\_growth\\_rate\\_percentage & annual\\_unemployment\\_rate & max\\_portfolio\\_return\\_name\\\\\n",
       " <dbl> & <dbl> & <dbl> & <fct>\\\\\n",
       "\\hline\n",
       "\t 2.337690 & 4.4 & 4.950000 & 60/40\\_portfolio\\_return\\_percentage \\\\\n",
       "\t 1.552279 & 4.5 & 4.508333 & growth\\_portfolio\\_return\\_percentage\\\\\n",
       "\t 2.188027 & 4.8 & 4.216667 & growth\\_portfolio\\_return\\_percentage\\\\\n",
       "\t ⋮ & ⋮ & ⋮ & ⋮\\\\\n",
       "\t 1.812210 &  2.3 & 3.666667 & growth\\_portfolio\\_return\\_percentage\\\\\n",
       "\t 1.233584 & -3.4 & 8.091666 & growth\\_portfolio\\_return\\_percentage\\\\\n",
       "\t 4.697859 &  5.7 & 5.366667 & growth\\_portfolio\\_return\\_percentage\\\\\n",
       "\\end{tabular}\n"
      ],
      "text/markdown": [
       "\n",
       "A tibble: 25 × 4\n",
       "\n",
       "| annual_inflation &lt;dbl&gt; | real_gdp_growth_rate_percentage &lt;dbl&gt; | annual_unemployment_rate &lt;dbl&gt; | max_portfolio_return_name &lt;fct&gt; |\n",
       "|---|---|---|---|\n",
       "| 2.337690 | 4.4 | 4.950000 | 60/40_portfolio_return_percentage  |\n",
       "| 1.552279 | 4.5 | 4.508333 | growth_portfolio_return_percentage |\n",
       "| 2.188027 | 4.8 | 4.216667 | growth_portfolio_return_percentage |\n",
       "| ⋮ | ⋮ | ⋮ | ⋮ |\n",
       "| 1.812210 |  2.3 | 3.666667 | growth_portfolio_return_percentage |\n",
       "| 1.233584 | -3.4 | 8.091666 | growth_portfolio_return_percentage |\n",
       "| 4.697859 |  5.7 | 5.366667 | growth_portfolio_return_percentage |\n",
       "\n"
      ],
      "text/plain": [
       "   annual_inflation real_gdp_growth_rate_percentage annual_unemployment_rate\n",
       "1  2.337690         4.4                             4.950000                \n",
       "2  1.552279         4.5                             4.508333                \n",
       "3  2.188027         4.8                             4.216667                \n",
       "⋮  ⋮                ⋮                               ⋮                       \n",
       "23 1.812210          2.3                            3.666667                \n",
       "24 1.233584         -3.4                            8.091666                \n",
       "25 4.697859          5.7                            5.366667                \n",
       "   max_portfolio_return_name         \n",
       "1  60/40_portfolio_return_percentage \n",
       "2  growth_portfolio_return_percentage\n",
       "3  growth_portfolio_return_percentage\n",
       "⋮  ⋮                                 \n",
       "23 growth_portfolio_return_percentage\n",
       "24 growth_portfolio_return_percentage\n",
       "25 growth_portfolio_return_percentage"
      ]
     },
     "metadata": {},
     "output_type": "display_data"
    }
   ],
   "source": [
    "portfolio_data <- read_csv(\"final_data.csv\")|>\n",
    "mutate(max_portfolio_return_name = as_factor(max_portfolio_return_name))|>\n",
    "select(-year, -max_portfolio_return_value)\n",
    "portfolio_data"
   ]
  },
  {
   "cell_type": "code",
   "execution_count": 3,
   "id": "1a3c8a24-2013-4e09-b75f-ed7239d12b95",
   "metadata": {},
   "outputs": [
    {
     "data": {
      "text/html": [
       "<table class=\"dataframe\">\n",
       "<caption>A tibble: 4 × 3</caption>\n",
       "<thead>\n",
       "\t<tr><th scope=col>max_portfolio_return_name</th><th scope=col>count</th><th scope=col>percentage</th></tr>\n",
       "\t<tr><th scope=col>&lt;fct&gt;</th><th scope=col>&lt;int&gt;</th><th scope=col>&lt;dbl&gt;</th></tr>\n",
       "</thead>\n",
       "<tbody>\n",
       "\t<tr><td>60/40_portfolio_return_percentage </td><td> 4</td><td>16</td></tr>\n",
       "\t<tr><td>growth_portfolio_return_percentage</td><td>15</td><td>60</td></tr>\n",
       "\t<tr><td>income_portfolio_return_percentage</td><td> 5</td><td>20</td></tr>\n",
       "\t<tr><td>40/60_portfolio_return_percentage </td><td> 1</td><td> 4</td></tr>\n",
       "</tbody>\n",
       "</table>\n"
      ],
      "text/latex": [
       "A tibble: 4 × 3\n",
       "\\begin{tabular}{lll}\n",
       " max\\_portfolio\\_return\\_name & count & percentage\\\\\n",
       " <fct> & <int> & <dbl>\\\\\n",
       "\\hline\n",
       "\t 60/40\\_portfolio\\_return\\_percentage  &  4 & 16\\\\\n",
       "\t growth\\_portfolio\\_return\\_percentage & 15 & 60\\\\\n",
       "\t income\\_portfolio\\_return\\_percentage &  5 & 20\\\\\n",
       "\t 40/60\\_portfolio\\_return\\_percentage  &  1 &  4\\\\\n",
       "\\end{tabular}\n"
      ],
      "text/markdown": [
       "\n",
       "A tibble: 4 × 3\n",
       "\n",
       "| max_portfolio_return_name &lt;fct&gt; | count &lt;int&gt; | percentage &lt;dbl&gt; |\n",
       "|---|---|---|\n",
       "| 60/40_portfolio_return_percentage  |  4 | 16 |\n",
       "| growth_portfolio_return_percentage | 15 | 60 |\n",
       "| income_portfolio_return_percentage |  5 | 20 |\n",
       "| 40/60_portfolio_return_percentage  |  1 |  4 |\n",
       "\n"
      ],
      "text/plain": [
       "  max_portfolio_return_name          count percentage\n",
       "1 60/40_portfolio_return_percentage   4    16        \n",
       "2 growth_portfolio_return_percentage 15    60        \n",
       "3 income_portfolio_return_percentage  5    20        \n",
       "4 40/60_portfolio_return_percentage   1     4        "
      ]
     },
     "metadata": {},
     "output_type": "display_data"
    }
   ],
   "source": [
    "#exloring our data:\n",
    "\n",
    "num_obs <- nrow(portfolio_data)\n",
    "\n",
    "portfolio_data |>\n",
    "group_by(max_portfolio_return_name) |>\n",
    "summarize(count = n(), percentage = n() / num_obs * 100)\n",
    "\n",
    "#Word of caution: data seems to have too much \"growth_portfolio\" labels. Thus, rebalancing could be attempted: "
   ]
  },
  {
   "cell_type": "code",
   "execution_count": 6,
   "id": "13beb804-e460-48d5-93ef-923ce2257859",
   "metadata": {},
   "outputs": [
    {
     "ename": "ERROR",
     "evalue": "Error in library(themis): there is no package called ‘themis’\n",
     "output_type": "error",
     "traceback": [
      "Error in library(themis): there is no package called ‘themis’\nTraceback:\n",
      "1. library(themis)"
     ]
    }
   ],
   "source": [
    "#performing rebalancing:\n",
    "library(themis)\n",
    "\n",
    "ups_recipe <- recipe(max_portfolio_return_name ~ ., data = portfolio_data) |>\n",
    "step_upsample(max_portfolio_return_name, over_ratio = 1, skip = FALSE) |>\n",
    "prep()\n",
    "ups_recipe\n",
    "\n",
    "upsampled_portfolio <- bake(ups_recipe, portfolio_data)\n",
    "\n",
    "upsampled_portfolio |>\n",
    "group_by(max_portfolio_return_name) |>\n",
    "summarize(n = n())"
   ]
  },
  {
   "cell_type": "code",
   "execution_count": 7,
   "id": "7fb85d94-30cf-4a37-b23c-c7b1e7a8ea09",
   "metadata": {},
   "outputs": [
    {
     "ename": "ERROR",
     "evalue": "Error in print(upsampled_portfolio): object 'upsampled_portfolio' not found\n",
     "output_type": "error",
     "traceback": [
      "Error in print(upsampled_portfolio): object 'upsampled_portfolio' not found\nTraceback:\n",
      "1. print(upsampled_portfolio)"
     ]
    }
   ],
   "source": [
    "#comparing upsampled vs normal data:\n",
    "\n",
    "print(upsampled_portfolio)\n",
    "print (portfolio_data)"
   ]
  },
  {
   "cell_type": "markdown",
   "id": "fcb86a5c-9dc4-47d4-bb3c-f4002c2d790d",
   "metadata": {},
   "source": [
    "As seen above, upsampling would harm our data as it would create fictitious data points just for the sake of balancing out the labels. This in turn, would harm our real-life prediction accuracy interpretation since the data point created don't make any real sense.Therefore, for the rest of the classification, we won't be using upsampled data."
   ]
  },
  {
   "cell_type": "code",
   "execution_count": 8,
   "id": "b351c8a1-8a93-472b-8940-18348c1680b3",
   "metadata": {},
   "outputs": [
    {
     "data": {
      "text/html": [
       "<table class=\"dataframe\">\n",
       "<caption>A tibble: 4 × 3</caption>\n",
       "<thead>\n",
       "\t<tr><th scope=col>max_portfolio_return_name</th><th scope=col>count</th><th scope=col>percentage</th></tr>\n",
       "\t<tr><th scope=col>&lt;fct&gt;</th><th scope=col>&lt;int&gt;</th><th scope=col>&lt;dbl&gt;</th></tr>\n",
       "</thead>\n",
       "<tbody>\n",
       "\t<tr><td>60/40_portfolio_return_percentage </td><td> 3</td><td>12</td></tr>\n",
       "\t<tr><td>growth_portfolio_return_percentage</td><td>11</td><td>44</td></tr>\n",
       "\t<tr><td>income_portfolio_return_percentage</td><td> 3</td><td>12</td></tr>\n",
       "\t<tr><td>40/60_portfolio_return_percentage </td><td> 1</td><td> 4</td></tr>\n",
       "</tbody>\n",
       "</table>\n"
      ],
      "text/latex": [
       "A tibble: 4 × 3\n",
       "\\begin{tabular}{lll}\n",
       " max\\_portfolio\\_return\\_name & count & percentage\\\\\n",
       " <fct> & <int> & <dbl>\\\\\n",
       "\\hline\n",
       "\t 60/40\\_portfolio\\_return\\_percentage  &  3 & 12\\\\\n",
       "\t growth\\_portfolio\\_return\\_percentage & 11 & 44\\\\\n",
       "\t income\\_portfolio\\_return\\_percentage &  3 & 12\\\\\n",
       "\t 40/60\\_portfolio\\_return\\_percentage  &  1 &  4\\\\\n",
       "\\end{tabular}\n"
      ],
      "text/markdown": [
       "\n",
       "A tibble: 4 × 3\n",
       "\n",
       "| max_portfolio_return_name &lt;fct&gt; | count &lt;int&gt; | percentage &lt;dbl&gt; |\n",
       "|---|---|---|\n",
       "| 60/40_portfolio_return_percentage  |  3 | 12 |\n",
       "| growth_portfolio_return_percentage | 11 | 44 |\n",
       "| income_portfolio_return_percentage |  3 | 12 |\n",
       "| 40/60_portfolio_return_percentage  |  1 |  4 |\n",
       "\n"
      ],
      "text/plain": [
       "  max_portfolio_return_name          count percentage\n",
       "1 60/40_portfolio_return_percentage   3    12        \n",
       "2 growth_portfolio_return_percentage 11    44        \n",
       "3 income_portfolio_return_percentage  3    12        \n",
       "4 40/60_portfolio_return_percentage   1     4        "
      ]
     },
     "metadata": {},
     "output_type": "display_data"
    },
    {
     "data": {
      "text/html": [
       "<table class=\"dataframe\">\n",
       "<caption>A tibble: 3 × 3</caption>\n",
       "<thead>\n",
       "\t<tr><th scope=col>max_portfolio_return_name</th><th scope=col>count</th><th scope=col>percentage</th></tr>\n",
       "\t<tr><th scope=col>&lt;fct&gt;</th><th scope=col>&lt;int&gt;</th><th scope=col>&lt;dbl&gt;</th></tr>\n",
       "</thead>\n",
       "<tbody>\n",
       "\t<tr><td>60/40_portfolio_return_percentage </td><td>1</td><td> 4</td></tr>\n",
       "\t<tr><td>growth_portfolio_return_percentage</td><td>4</td><td>16</td></tr>\n",
       "\t<tr><td>income_portfolio_return_percentage</td><td>2</td><td> 8</td></tr>\n",
       "</tbody>\n",
       "</table>\n"
      ],
      "text/latex": [
       "A tibble: 3 × 3\n",
       "\\begin{tabular}{lll}\n",
       " max\\_portfolio\\_return\\_name & count & percentage\\\\\n",
       " <fct> & <int> & <dbl>\\\\\n",
       "\\hline\n",
       "\t 60/40\\_portfolio\\_return\\_percentage  & 1 &  4\\\\\n",
       "\t growth\\_portfolio\\_return\\_percentage & 4 & 16\\\\\n",
       "\t income\\_portfolio\\_return\\_percentage & 2 &  8\\\\\n",
       "\\end{tabular}\n"
      ],
      "text/markdown": [
       "\n",
       "A tibble: 3 × 3\n",
       "\n",
       "| max_portfolio_return_name &lt;fct&gt; | count &lt;int&gt; | percentage &lt;dbl&gt; |\n",
       "|---|---|---|\n",
       "| 60/40_portfolio_return_percentage  | 1 |  4 |\n",
       "| growth_portfolio_return_percentage | 4 | 16 |\n",
       "| income_portfolio_return_percentage | 2 |  8 |\n",
       "\n"
      ],
      "text/plain": [
       "  max_portfolio_return_name          count percentage\n",
       "1 60/40_portfolio_return_percentage  1      4        \n",
       "2 growth_portfolio_return_percentage 4     16        \n",
       "3 income_portfolio_return_percentage 2      8        "
      ]
     },
     "metadata": {},
     "output_type": "display_data"
    }
   ],
   "source": [
    "set.seed(9999) #ensuring reproducibility\n",
    "options(repr.plot.height = 5, repr.plot.width = 6)\n",
    "\n",
    "#splitting with normal data:\n",
    "portfolio_split <- initial_split(portfolio_data, prop = 0.75, strata = max_portfolio_return_name)\n",
    "portfolio_train <- training(portfolio_split)\n",
    "portfolio_test <- testing(portfolio_split) \n",
    "\n",
    "\n",
    "#exploring distribution of labels in each split:\n",
    "\n",
    "portfolio_train |>\n",
    "group_by(max_portfolio_return_name) |>\n",
    "summarize(count = n(), percentage = n() / num_obs * 100)\n",
    "\n",
    "portfolio_test |>\n",
    "group_by(max_portfolio_return_name) |>\n",
    "summarize(count = n(), percentage = n() / num_obs * 100)"
   ]
  },
  {
   "cell_type": "markdown",
   "id": "c24affb0-59c0-4144-9e92-d9811b53eddc",
   "metadata": {},
   "source": [
    "The distribution of both split and test indicate that most of the data labels are \"growth_portfolio\". Hence this is something to bare and be critical when interptreting our predictions below. The best way to avoid this is to ideally collect data of more years since, as mentioned above, upsampling would harm the real-life applicability of the model. "
   ]
  },
  {
   "cell_type": "code",
   "execution_count": 9,
   "id": "77a32ce3-1107-4d83-b58b-6c1acf3f78b8",
   "metadata": {},
   "outputs": [],
   "source": [
    "#recipe with normal data:\n",
    "knn_recipe <- recipe(max_portfolio_return_name ~ annual_inflation + real_gdp_growth_rate_percentage + annual_unemployment_rate, data = portfolio_train) |>\n",
    "    step_center(all_predictors()) |>\n",
    "    step_scale (all_predictors())"
   ]
  },
  {
   "cell_type": "code",
   "execution_count": 10,
   "id": "9cf64d16-0e7a-447c-be51-98bea5809808",
   "metadata": {},
   "outputs": [],
   "source": [
    "knn_tune <- nearest_neighbor(weight_func = \"rectangular\", neighbors = tune()) |> \n",
    "set_engine(\"kknn\") |>\n",
    "set_mode(\"classification\") "
   ]
  },
  {
   "cell_type": "code",
   "execution_count": 11,
   "id": "483dea26-ee60-454b-8e0f-02fd9d5a1623",
   "metadata": {},
   "outputs": [
    {
     "name": "stderr",
     "output_type": "stream",
     "text": [
      "\u001b[33m!\u001b[39m \u001b[33mFold1: preprocessor 1/1, model 1/1: 15 samples were requested but there were 13 rows in the data. 8 will be ...\u001b[39m\n",
      "\n",
      "\u001b[33m!\u001b[39m \u001b[33mFold1: preprocessor 1/1, model 1/1 (predictions): data length [65] is not a sub-multiple or multiple of the number of colu...\u001b[39m\n",
      "\n",
      "\u001b[33m!\u001b[39m \u001b[33mFold1: internal:\n",
      "  No observations were detected in `truth` for level(s): '60/40_portfoli...\n",
      "  Computation will proceed by ignoring those levels.\u001b[39m\n",
      "\n",
      "\u001b[33m!\u001b[39m \u001b[33mFold2: preprocessor 1/1, model 1/1: 15 samples were requested but there were 13 rows in the data. 8 will be ...\u001b[39m\n",
      "\n",
      "\u001b[33m!\u001b[39m \u001b[33mFold2: internal:\n",
      "  No observations were detected in `truth` for level(s): '40/60_portfoli...\n",
      "  Computation will proceed by ignoring those levels., No observations we...\n",
      "  Computation will proceed by ignoring those levels.\u001b[39m\n",
      "\n",
      "\u001b[33m!\u001b[39m \u001b[33mFold3: preprocessor 1/1, model 1/1: 15 samples were requested but there were 14 rows in the data. 9 will be ...\u001b[39m\n",
      "\n",
      "\u001b[33m!\u001b[39m \u001b[33mFold3: internal:\n",
      "  No observations were detected in `truth` for level(s): '40/60_portfoli...\n",
      "  Computation will proceed by ignoring those levels., No observations we...\n",
      "  Computation will proceed by ignoring those levels.\u001b[39m\n",
      "\n",
      "\u001b[33m!\u001b[39m \u001b[33mFold4: preprocessor 1/1, model 1/1: 15 samples were requested but there were 16 rows in the data. 11 will be...\u001b[39m\n",
      "\n",
      "\u001b[33m!\u001b[39m \u001b[33mFold4: internal:\n",
      "  No observations were detected in `truth` for level(s): '60/40_portfoli...\n",
      "  Computation will proceed by ignoring those levels.\u001b[39m\n",
      "\n",
      "\u001b[33m!\u001b[39m \u001b[33mFold5: preprocessor 1/1, model 1/1: 15 samples were requested but there were 16 rows in the data. 11 will be...\u001b[39m\n",
      "\n",
      "\u001b[33m!\u001b[39m \u001b[33mFold5: internal:\n",
      "  No observations were detected in `truth` for level(s): '60/40_portfoli...\n",
      "  Computation will proceed by ignoring those levels.\u001b[39m\n",
      "\n"
     ]
    },
    {
     "data": {
      "text/html": [
       "<table class=\"dataframe\">\n",
       "<caption>A tibble: 15 × 7</caption>\n",
       "<thead>\n",
       "\t<tr><th scope=col>neighbors</th><th scope=col>.metric</th><th scope=col>.estimator</th><th scope=col>mean</th><th scope=col>n</th><th scope=col>std_err</th><th scope=col>.config</th></tr>\n",
       "\t<tr><th scope=col>&lt;int&gt;</th><th scope=col>&lt;chr&gt;</th><th scope=col>&lt;chr&gt;</th><th scope=col>&lt;dbl&gt;</th><th scope=col>&lt;int&gt;</th><th scope=col>&lt;dbl&gt;</th><th scope=col>&lt;chr&gt;</th></tr>\n",
       "</thead>\n",
       "<tbody>\n",
       "\t<tr><td>4</td><td>accuracy</td><td>multiclass</td><td>0.7</td><td>5</td><td>0.1264911</td><td>Preprocessor1_Model04</td></tr>\n",
       "\t<tr><td>5</td><td>accuracy</td><td>multiclass</td><td>0.7</td><td>5</td><td>0.1264911</td><td>Preprocessor1_Model05</td></tr>\n",
       "\t<tr><td>6</td><td>accuracy</td><td>multiclass</td><td>0.7</td><td>5</td><td>0.1264911</td><td>Preprocessor1_Model06</td></tr>\n",
       "\t<tr><td>⋮</td><td>⋮</td><td>⋮</td><td>⋮</td><td>⋮</td><td>⋮</td><td>⋮</td></tr>\n",
       "\t<tr><td> 3</td><td>accuracy</td><td>multiclass</td><td>0.66</td><td>5</td><td>0.1400000</td><td>Preprocessor1_Model03</td></tr>\n",
       "\t<tr><td>13</td><td>accuracy</td><td>multiclass</td><td>0.66</td><td>5</td><td>0.1536229</td><td>Preprocessor1_Model13</td></tr>\n",
       "\t<tr><td>14</td><td>accuracy</td><td>multiclass</td><td>0.58</td><td>5</td><td>0.1800000</td><td>Preprocessor1_Model14</td></tr>\n",
       "</tbody>\n",
       "</table>\n"
      ],
      "text/latex": [
       "A tibble: 15 × 7\n",
       "\\begin{tabular}{lllllll}\n",
       " neighbors & .metric & .estimator & mean & n & std\\_err & .config\\\\\n",
       " <int> & <chr> & <chr> & <dbl> & <int> & <dbl> & <chr>\\\\\n",
       "\\hline\n",
       "\t 4 & accuracy & multiclass & 0.7 & 5 & 0.1264911 & Preprocessor1\\_Model04\\\\\n",
       "\t 5 & accuracy & multiclass & 0.7 & 5 & 0.1264911 & Preprocessor1\\_Model05\\\\\n",
       "\t 6 & accuracy & multiclass & 0.7 & 5 & 0.1264911 & Preprocessor1\\_Model06\\\\\n",
       "\t ⋮ & ⋮ & ⋮ & ⋮ & ⋮ & ⋮ & ⋮\\\\\n",
       "\t  3 & accuracy & multiclass & 0.66 & 5 & 0.1400000 & Preprocessor1\\_Model03\\\\\n",
       "\t 13 & accuracy & multiclass & 0.66 & 5 & 0.1536229 & Preprocessor1\\_Model13\\\\\n",
       "\t 14 & accuracy & multiclass & 0.58 & 5 & 0.1800000 & Preprocessor1\\_Model14\\\\\n",
       "\\end{tabular}\n"
      ],
      "text/markdown": [
       "\n",
       "A tibble: 15 × 7\n",
       "\n",
       "| neighbors &lt;int&gt; | .metric &lt;chr&gt; | .estimator &lt;chr&gt; | mean &lt;dbl&gt; | n &lt;int&gt; | std_err &lt;dbl&gt; | .config &lt;chr&gt; |\n",
       "|---|---|---|---|---|---|---|\n",
       "| 4 | accuracy | multiclass | 0.7 | 5 | 0.1264911 | Preprocessor1_Model04 |\n",
       "| 5 | accuracy | multiclass | 0.7 | 5 | 0.1264911 | Preprocessor1_Model05 |\n",
       "| 6 | accuracy | multiclass | 0.7 | 5 | 0.1264911 | Preprocessor1_Model06 |\n",
       "| ⋮ | ⋮ | ⋮ | ⋮ | ⋮ | ⋮ | ⋮ |\n",
       "|  3 | accuracy | multiclass | 0.66 | 5 | 0.1400000 | Preprocessor1_Model03 |\n",
       "| 13 | accuracy | multiclass | 0.66 | 5 | 0.1536229 | Preprocessor1_Model13 |\n",
       "| 14 | accuracy | multiclass | 0.58 | 5 | 0.1800000 | Preprocessor1_Model14 |\n",
       "\n"
      ],
      "text/plain": [
       "   neighbors .metric  .estimator mean n std_err   .config              \n",
       "1  4         accuracy multiclass 0.7  5 0.1264911 Preprocessor1_Model04\n",
       "2  5         accuracy multiclass 0.7  5 0.1264911 Preprocessor1_Model05\n",
       "3  6         accuracy multiclass 0.7  5 0.1264911 Preprocessor1_Model06\n",
       "⋮  ⋮         ⋮        ⋮          ⋮    ⋮ ⋮         ⋮                    \n",
       "13  3        accuracy multiclass 0.66 5 0.1400000 Preprocessor1_Model03\n",
       "14 13        accuracy multiclass 0.66 5 0.1536229 Preprocessor1_Model13\n",
       "15 14        accuracy multiclass 0.58 5 0.1800000 Preprocessor1_Model14"
      ]
     },
     "metadata": {},
     "output_type": "display_data"
    },
    {
     "data": {
      "image/png": "[encoded data removed]",
      "text/plain": [
       "plot without title"
      ]
     },
     "metadata": {
      "image/png": {
       "height": 300,
       "width": 360
      }
     },
     "output_type": "display_data"
    }
   ],
   "source": [
    "set.seed(9999) #ensuring reproducibility\n",
    "\n",
    "knn_vfold <- vfold_cv(portfolio_train, v = 5, strata = max_portfolio_return_name)\n",
    "gridvals <- tibble(neighbors = seq(from = 1, to = 15))\n",
    "\n",
    "knn_results <- workflow() |>\n",
    "  add_recipe(knn_recipe) |>\n",
    "  add_model(knn_tune) |>\n",
    "  tune_grid(resamples = knn_vfold, grid = gridvals) |>\n",
    "  collect_metrics() \n",
    "\n",
    "accuracies <- knn_results |> \n",
    "       filter(.metric == \"accuracy\") |>\n",
    "       arrange(desc(mean))\n",
    "accuracies\n",
    "\n",
    "\n",
    "cross_val_plot <- ggplot(accuracies, aes(x = neighbors, y = mean))+\n",
    "       geom_point() +\n",
    "       geom_line() +\n",
    "       labs(x = \"Neighbors\", y = \"Accuracy Estimate\") +\n",
    "       ggtitle(\"cross-validation plot\")\n",
    "cross_val_plot"
   ]
  },
  {
   "cell_type": "code",
   "execution_count": 12,
   "id": "3ed1bfc3-e40d-497b-abe0-4c4809c51fea",
   "metadata": {},
   "outputs": [],
   "source": [
    "# based on the plot,  we will pick K=8 because it the median neighbor between the equal-accuracy-range of K= 4-12. choosing k=8 ensures that going a bit to the righ or left leaves the accuracy estimate intact\n",
    "# We certainly believe that in order to enhance our model, more data should be collected for each variable. \n",
    "# Unfortunatly, our data was restricted for data from 1997-2021.\n",
    "\n",
    "knn_spec <- nearest_neighbor(weight_func = \"rectangular\", neighbors = 8) |>\n",
    "set_engine(\"kknn\") |>\n",
    "set_mode(\"classification\")\n",
    "\n",
    "knn_fit <- workflow() |>\n",
    "add_recipe(knn_recipe) |>\n",
    "add_model(knn_spec) |>\n",
    "fit(data = portfolio_train)"
   ]
  },
  {
   "cell_type": "code",
   "execution_count": 13,
   "id": "28f1d673-9b56-48d6-82f3-5b7226d41540",
   "metadata": {},
   "outputs": [
    {
     "data": {
      "text/html": [
       "<table class=\"dataframe\">\n",
       "<caption>A tibble: 2 × 3</caption>\n",
       "<thead>\n",
       "\t<tr><th scope=col>.metric</th><th scope=col>.estimator</th><th scope=col>.estimate</th></tr>\n",
       "\t<tr><th scope=col>&lt;chr&gt;</th><th scope=col>&lt;chr&gt;</th><th scope=col>&lt;dbl&gt;</th></tr>\n",
       "</thead>\n",
       "<tbody>\n",
       "\t<tr><td>accuracy</td><td>multiclass</td><td>0.7142857</td></tr>\n",
       "\t<tr><td>kap     </td><td>multiclass</td><td>0.3913043</td></tr>\n",
       "</tbody>\n",
       "</table>\n"
      ],
      "text/latex": [
       "A tibble: 2 × 3\n",
       "\\begin{tabular}{lll}\n",
       " .metric & .estimator & .estimate\\\\\n",
       " <chr> & <chr> & <dbl>\\\\\n",
       "\\hline\n",
       "\t accuracy & multiclass & 0.7142857\\\\\n",
       "\t kap      & multiclass & 0.3913043\\\\\n",
       "\\end{tabular}\n"
      ],
      "text/markdown": [
       "\n",
       "A tibble: 2 × 3\n",
       "\n",
       "| .metric &lt;chr&gt; | .estimator &lt;chr&gt; | .estimate &lt;dbl&gt; |\n",
       "|---|---|---|\n",
       "| accuracy | multiclass | 0.7142857 |\n",
       "| kap      | multiclass | 0.3913043 |\n",
       "\n"
      ],
      "text/plain": [
       "  .metric  .estimator .estimate\n",
       "1 accuracy multiclass 0.7142857\n",
       "2 kap      multiclass 0.3913043"
      ]
     },
     "metadata": {},
     "output_type": "display_data"
    }
   ],
   "source": [
    "#testing model predictions with testing set\n",
    "\n",
    "set.seed(9999) #ensuring reproducibility\n",
    "\n",
    "test_predictions <- predict(knn_fit,portfolio_test) |>\n",
    "bind_cols(portfolio_test)\n",
    "\n",
    "knn_metrics <- test_predictions |>\n",
    "metrics(truth = max_portfolio_return_name, estimate = .pred_class)\n",
    "knn_metrics\n",
    "#accuracy seems to improve a bit (from 70% up to ~71%) when applying model to testing dataset"
   ]
  },
  {
   "cell_type": "code",
   "execution_count": 14,
   "id": "6b424649-7145-404e-8abe-d2c2ad866f0d",
   "metadata": {},
   "outputs": [
    {
     "data": {
      "text/html": [
       "<table class=\"dataframe\">\n",
       "<caption>A tibble: 1 × 1</caption>\n",
       "<thead>\n",
       "\t<tr><th scope=col>.pred_class</th></tr>\n",
       "\t<tr><th scope=col>&lt;fct&gt;</th></tr>\n",
       "</thead>\n",
       "<tbody>\n",
       "\t<tr><td>growth_portfolio_return_percentage</td></tr>\n",
       "</tbody>\n",
       "</table>\n"
      ],
      "text/latex": [
       "A tibble: 1 × 1\n",
       "\\begin{tabular}{l}\n",
       " .pred\\_class\\\\\n",
       " <fct>\\\\\n",
       "\\hline\n",
       "\t growth\\_portfolio\\_return\\_percentage\\\\\n",
       "\\end{tabular}\n"
      ],
      "text/markdown": [
       "\n",
       "A tibble: 1 × 1\n",
       "\n",
       "| .pred_class &lt;fct&gt; |\n",
       "|---|\n",
       "| growth_portfolio_return_percentage |\n",
       "\n"
      ],
      "text/plain": [
       "  .pred_class                       \n",
       "1 growth_portfolio_return_percentage"
      ]
     },
     "metadata": {},
     "output_type": "display_data"
    },
    {
     "data": {
      "text/html": [
       "<table class=\"dataframe\">\n",
       "<caption>A tibble: 1 × 1</caption>\n",
       "<thead>\n",
       "\t<tr><th scope=col>.pred_class</th></tr>\n",
       "\t<tr><th scope=col>&lt;fct&gt;</th></tr>\n",
       "</thead>\n",
       "<tbody>\n",
       "\t<tr><td>income_portfolio_return_percentage</td></tr>\n",
       "</tbody>\n",
       "</table>\n"
      ],
      "text/latex": [
       "A tibble: 1 × 1\n",
       "\\begin{tabular}{l}\n",
       " .pred\\_class\\\\\n",
       " <fct>\\\\\n",
       "\\hline\n",
       "\t income\\_portfolio\\_return\\_percentage\\\\\n",
       "\\end{tabular}\n"
      ],
      "text/markdown": [
       "\n",
       "A tibble: 1 × 1\n",
       "\n",
       "| .pred_class &lt;fct&gt; |\n",
       "|---|\n",
       "| income_portfolio_return_percentage |\n",
       "\n"
      ],
      "text/plain": [
       "  .pred_class                       \n",
       "1 income_portfolio_return_percentage"
      ]
     },
     "metadata": {},
     "output_type": "display_data"
    }
   ],
   "source": [
    "#This is the new observation to predict\n",
    "\n",
    "new_economic_environment_1 <- tibble(annual_inflation = 2, real_gdp_growth_rate_percentage = 5, annual_unemployment_rate = 8)\n",
    "new_economic_environment_2 <- tibble(annual_inflation = 2, real_gdp_growth_rate_percentage = 0, annual_unemployment_rate = 4)\n",
    "\n",
    "portfolio_prediction_1 <- predict(knn_fit, new_economic_environment_1)\n",
    "portfolio_prediction_1\n",
    "\n",
    "portfolio_prediction_2 <- predict(knn_fit, new_economic_environment_2)\n",
    "portfolio_prediction_2"
   ]
  }
 ],
 "metadata": {
  "kernelspec": {
   "display_name": "R",
   "language": "R",
   "name": "ir"
  },
  "language_info": {
   "codemirror_mode": "r",
   "file_extension": ".r",
   "mimetype": "text/x-r-source",
   "name": "R",
   "pygments_lexer": "r",
   "version": "4.1.3"
  }
 },
 "nbformat": 4,
 "nbformat_minor": 5
}
