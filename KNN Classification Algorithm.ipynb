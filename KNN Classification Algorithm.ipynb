{
 "cells": [
  {
   "cell_type": "code",
   "execution_count": 4,
   "id": "474094f9-6596-4bdc-8f1a-79e1dea43f64",
   "metadata": {},
   "outputs": [
    {
     "name": "stderr",
     "output_type": "stream",
     "text": [
      "Warning message in file(filename, \"r\", encoding = encoding):\n",
      "“cannot open file 'tests.R': No such file or directory”\n"
     ]
    },
    {
     "ename": "ERROR",
     "evalue": "Error in file(filename, \"r\", encoding = encoding): cannot open the connection\n",
     "output_type": "error",
     "traceback": [
      "Error in file(filename, \"r\", encoding = encoding): cannot open the connection\nTraceback:\n",
      "1. source(\"tests.R\")",
      "2. file(filename, \"r\", encoding = encoding)"
     ]
    }
   ],
   "source": [
    "##before continuing the following packages need to be runned\n",
    "library(tidyverse)\n",
    "library(repr)\n",
    "library(tidymodels)\n",
    "options(repr.matrix.max.rows = 6)\n",
    "source('tests.R')\n",
    "source('cleanup.R')"
   ]
  },
  {
   "cell_type": "code",
   "execution_count": 11,
   "id": "35a8ec18-8db4-44de-89f2-96ede365685c",
   "metadata": {},
   "outputs": [
    {
     "name": "stderr",
     "output_type": "stream",
     "text": [
      "\u001b[1mRows: \u001b[22m\u001b[34m25\u001b[39m \u001b[1mColumns: \u001b[22m\u001b[34m6\u001b[39m\n",
      "\u001b[36m──\u001b[39m \u001b[1mColumn specification\u001b[22m \u001b[36m────────────────────────────────────────────────────────\u001b[39m\n",
      "\u001b[1mDelimiter:\u001b[22m \",\"\n",
      "\u001b[31mchr\u001b[39m (1): max_portfolio_return_name\n",
      "\u001b[32mdbl\u001b[39m (5): year, annual_inflation, real_gdp_growth_rate_percentage, annual_une...\n",
      "\n",
      "\u001b[36mℹ\u001b[39m Use `spec()` to retrieve the full column specification for this data.\n",
      "\u001b[36mℹ\u001b[39m Specify the column types or set `show_col_types = FALSE` to quiet this message.\n"
     ]
    },
    {
     "data": {
      "text/html": [
       "<table class=\"dataframe\">\n",
       "<caption>A tibble: 25 × 6</caption>\n",
       "<thead>\n",
       "\t<tr><th scope=col>year</th><th scope=col>annual_inflation</th><th scope=col>real_gdp_growth_rate_percentage</th><th scope=col>annual_unemployment_rate</th><th scope=col>max_portfolio_return_value</th><th scope=col>max_portfolio_return_name</th></tr>\n",
       "\t<tr><th scope=col>&lt;dbl&gt;</th><th scope=col>&lt;dbl&gt;</th><th scope=col>&lt;dbl&gt;</th><th scope=col>&lt;dbl&gt;</th><th scope=col>&lt;dbl&gt;</th><th scope=col>&lt;fct&gt;</th></tr>\n",
       "</thead>\n",
       "<tbody>\n",
       "\t<tr><td>1997</td><td>2.337690</td><td>4.4</td><td>4.950000</td><td>22.37</td><td>60/40_portfolio_return_percentage </td></tr>\n",
       "\t<tr><td>1998</td><td>1.552279</td><td>4.5</td><td>4.508333</td><td>18.26</td><td>growth_portfolio_return_percentage</td></tr>\n",
       "\t<tr><td>1999</td><td>2.188027</td><td>4.8</td><td>4.216667</td><td>20.79</td><td>growth_portfolio_return_percentage</td></tr>\n",
       "\t<tr><td>⋮</td><td>⋮</td><td>⋮</td><td>⋮</td><td>⋮</td><td>⋮</td></tr>\n",
       "\t<tr><td>2019</td><td>1.812210</td><td> 2.3</td><td>3.666667</td><td>23.59</td><td>growth_portfolio_return_percentage</td></tr>\n",
       "\t<tr><td>2020</td><td>1.233584</td><td>-3.4</td><td>8.091666</td><td>15.74</td><td>growth_portfolio_return_percentage</td></tr>\n",
       "\t<tr><td>2021</td><td>4.697859</td><td> 5.7</td><td>5.366667</td><td>15.24</td><td>growth_portfolio_return_percentage</td></tr>\n",
       "</tbody>\n",
       "</table>\n"
      ],
      "text/latex": [
       "A tibble: 25 × 6\n",
       "\\begin{tabular}{llllll}\n",
       " year & annual\\_inflation & real\\_gdp\\_growth\\_rate\\_percentage & annual\\_unemployment\\_rate & max\\_portfolio\\_return\\_value & max\\_portfolio\\_return\\_name\\\\\n",
       " <dbl> & <dbl> & <dbl> & <dbl> & <dbl> & <fct>\\\\\n",
       "\\hline\n",
       "\t 1997 & 2.337690 & 4.4 & 4.950000 & 22.37 & 60/40\\_portfolio\\_return\\_percentage \\\\\n",
       "\t 1998 & 1.552279 & 4.5 & 4.508333 & 18.26 & growth\\_portfolio\\_return\\_percentage\\\\\n",
       "\t 1999 & 2.188027 & 4.8 & 4.216667 & 20.79 & growth\\_portfolio\\_return\\_percentage\\\\\n",
       "\t ⋮ & ⋮ & ⋮ & ⋮ & ⋮ & ⋮\\\\\n",
       "\t 2019 & 1.812210 &  2.3 & 3.666667 & 23.59 & growth\\_portfolio\\_return\\_percentage\\\\\n",
       "\t 2020 & 1.233584 & -3.4 & 8.091666 & 15.74 & growth\\_portfolio\\_return\\_percentage\\\\\n",
       "\t 2021 & 4.697859 &  5.7 & 5.366667 & 15.24 & growth\\_portfolio\\_return\\_percentage\\\\\n",
       "\\end{tabular}\n"
      ],
      "text/markdown": [
       "\n",
       "A tibble: 25 × 6\n",
       "\n",
       "| year &lt;dbl&gt; | annual_inflation &lt;dbl&gt; | real_gdp_growth_rate_percentage &lt;dbl&gt; | annual_unemployment_rate &lt;dbl&gt; | max_portfolio_return_value &lt;dbl&gt; | max_portfolio_return_name &lt;fct&gt; |\n",
       "|---|---|---|---|---|---|\n",
       "| 1997 | 2.337690 | 4.4 | 4.950000 | 22.37 | 60/40_portfolio_return_percentage  |\n",
       "| 1998 | 1.552279 | 4.5 | 4.508333 | 18.26 | growth_portfolio_return_percentage |\n",
       "| 1999 | 2.188027 | 4.8 | 4.216667 | 20.79 | growth_portfolio_return_percentage |\n",
       "| ⋮ | ⋮ | ⋮ | ⋮ | ⋮ | ⋮ |\n",
       "| 2019 | 1.812210 |  2.3 | 3.666667 | 23.59 | growth_portfolio_return_percentage |\n",
       "| 2020 | 1.233584 | -3.4 | 8.091666 | 15.74 | growth_portfolio_return_percentage |\n",
       "| 2021 | 4.697859 |  5.7 | 5.366667 | 15.24 | growth_portfolio_return_percentage |\n",
       "\n"
      ],
      "text/plain": [
       "   year annual_inflation real_gdp_growth_rate_percentage\n",
       "1  1997 2.337690         4.4                            \n",
       "2  1998 1.552279         4.5                            \n",
       "3  1999 2.188027         4.8                            \n",
       "⋮  ⋮    ⋮                ⋮                              \n",
       "23 2019 1.812210          2.3                           \n",
       "24 2020 1.233584         -3.4                           \n",
       "25 2021 4.697859          5.7                           \n",
       "   annual_unemployment_rate max_portfolio_return_value\n",
       "1  4.950000                 22.37                     \n",
       "2  4.508333                 18.26                     \n",
       "3  4.216667                 20.79                     \n",
       "⋮  ⋮                        ⋮                         \n",
       "23 3.666667                 23.59                     \n",
       "24 8.091666                 15.74                     \n",
       "25 5.366667                 15.24                     \n",
       "   max_portfolio_return_name         \n",
       "1  60/40_portfolio_return_percentage \n",
       "2  growth_portfolio_return_percentage\n",
       "3  growth_portfolio_return_percentage\n",
       "⋮  ⋮                                 \n",
       "23 growth_portfolio_return_percentage\n",
       "24 growth_portfolio_return_percentage\n",
       "25 growth_portfolio_return_percentage"
      ]
     },
     "metadata": {},
     "output_type": "display_data"
    }
   ],
   "source": [
    "portfolio_data <- read_csv(\"final_data.csv\")|>\n",
    "mutate(max_portfolio_return_name = as_factor(max_portfolio_return_name))\n",
    "portfolio_data"
   ]
  },
  {
   "cell_type": "code",
   "execution_count": 15,
   "id": "b351c8a1-8a93-472b-8940-18348c1680b3",
   "metadata": {},
   "outputs": [],
   "source": [
    "set.seed(9999) #ensuring reproducibility\n",
    "options(repr.plot.height = 5, repr.plot.width = 6)\n",
    "\n",
    "portfolio_split <- initial_split(portfolio_data, prop = 0.75, strata = max_portfolio_return_name)\n",
    "portfolio_train <- training(portfolio_split)\n",
    "portfolio_test <- testing(portfolio_split) "
   ]
  },
  {
   "cell_type": "code",
   "execution_count": 34,
   "id": "77a32ce3-1107-4d83-b58b-6c1acf3f78b8",
   "metadata": {},
   "outputs": [],
   "source": [
    "knn_recipe <- recipe(max_portfolio_return_name ~ annual_inflation + real_gdp_growth_rate_percentage + annual_unemployment_rate, data = portfolio_train) |>\n",
    "    step_center(all_predictors()) |>\n",
    "    step_scale (all_predictors())"
   ]
  },
  {
   "cell_type": "code",
   "execution_count": 35,
   "id": "9cf64d16-0e7a-447c-be51-98bea5809808",
   "metadata": {},
   "outputs": [],
   "source": [
    "knn_tune <- nearest_neighbor(weight_func = \"rectangular\", neighbors = tune()) |> \n",
    "set_engine(\"kknn\") |>\n",
    "set_mode(\"classification\") "
   ]
  },
  {
   "cell_type": "code",
   "execution_count": 36,
   "id": "483dea26-ee60-454b-8e0f-02fd9d5a1623",
   "metadata": {},
   "outputs": [
    {
     "name": "stderr",
     "output_type": "stream",
     "text": [
      "\u001b[33m!\u001b[39m \u001b[33mFold1: preprocessor 1/1, model 1/1: 20 samples were requested but there were 13 rows in the data. 8 will be ...\u001b[39m\n",
      "\n",
      "\u001b[33m!\u001b[39m \u001b[33mFold1: preprocessor 1/1, model 1/1 (predictions): data length [60] is not a sub-multiple or multiple of the number of colu...\u001b[39m\n",
      "\n",
      "\u001b[31mx\u001b[39m \u001b[31mFold1: preprocessor 1/1, model 1/1 (predictions): Error in `[.default`(cl, C): only 0's may be mixed with negative subscripts\u001b[39m\n",
      "\n",
      "\u001b[33m!\u001b[39m \u001b[33mFold2: preprocessor 1/1, model 1/1: 20 samples were requested but there were 14 rows in the data. 9 will be ...\u001b[39m\n",
      "\n",
      "\u001b[33m!\u001b[39m \u001b[33mFold2: preprocessor 1/1, model 1/1 (predictions): data length [56] is not a sub-multiple or multiple of the number of colu...\u001b[39m\n",
      "\n",
      "\u001b[31mx\u001b[39m \u001b[31mFold2: preprocessor 1/1, model 1/1 (predictions): Error in `[.default`(cl, C): only 0's may be mixed with negative subscripts\u001b[39m\n",
      "\n",
      "\u001b[33m!\u001b[39m \u001b[33mFold3: preprocessor 1/1, model 1/1: 20 samples were requested but there were 14 rows in the data. 9 will be ...\u001b[39m\n",
      "\n",
      "\u001b[33m!\u001b[39m \u001b[33mFold3: preprocessor 1/1, model 1/1 (predictions): data length [52] is not a sub-multiple or multiple of the number of colu...\u001b[39m\n",
      "\n",
      "\u001b[31mx\u001b[39m \u001b[31mFold3: preprocessor 1/1, model 1/1 (predictions): Error in `[.default`(cl, C): only 0's may be mixed with negative subscripts\u001b[39m\n",
      "\n",
      "\u001b[33m!\u001b[39m \u001b[33mFold4: preprocessor 1/1, model 1/1: 20 samples were requested but there were 15 rows in the data. 10 will be...\u001b[39m\n",
      "\n",
      "\u001b[33m!\u001b[39m \u001b[33mFold4: preprocessor 1/1, model 1/1 (predictions): data length [42] is not a sub-multiple or multiple of the number of colu...\u001b[39m\n",
      "\n",
      "\u001b[31mx\u001b[39m \u001b[31mFold4: preprocessor 1/1, model 1/1 (predictions): Error in `[.default`(cl, C): only 0's may be mixed with negative subscripts\u001b[39m\n",
      "\n",
      "\u001b[33m!\u001b[39m \u001b[33mFold5: preprocessor 1/1, model 1/1: 20 samples were requested but there were 16 rows in the data. 11 will be...\u001b[39m\n",
      "\n",
      "\u001b[33m!\u001b[39m \u001b[33mFold5: internal:\n",
      "  No observations were detected in `truth` for level(s): '60/40_portfoli...\n",
      "  Computation will proceed by ignoring those levels., No observations we...\n",
      "  Computation will proceed by ignoring those levels.\u001b[39m\n",
      "\n"
     ]
    }
   ],
   "source": [
    "knn_vfold <- vfold_cv(portfolio_train, v = 5, strata = max_portfolio_return_name)\n",
    "gridvals <- tibble(neighbors = seq(from = 1, to = 20))\n",
    "\n",
    "knn_results <- workflow() |>\n",
    "  add_recipe(knn_recipe) |>\n",
    "  add_model(knn_tune) |>\n",
    "  tune_grid(resamples = knn_vfold, grid = gridvals) |>\n",
    "  collect_metrics() "
   ]
  },
  {
   "cell_type": "code",
   "execution_count": null,
   "id": "3ed1bfc3-e40d-497b-abe0-4c4809c51fea",
   "metadata": {},
   "outputs": [],
   "source": []
  }
 ],
 "metadata": {
  "kernelspec": {
   "display_name": "R",
   "language": "R",
   "name": "ir"
  },
  "language_info": {
   "codemirror_mode": "r",
   "file_extension": ".r",
   "mimetype": "text/x-r-source",
   "name": "R",
   "pygments_lexer": "r",
   "version": "4.1.3"
  }
 },
 "nbformat": 4,
 "nbformat_minor": 5
}
