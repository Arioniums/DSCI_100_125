{
 "cells": [
  {
   "cell_type": "code",
   "execution_count": 1,
   "id": "474094f9-6596-4bdc-8f1a-79e1dea43f64",
   "metadata": {},
   "outputs": [
    {
     "name": "stderr",
     "output_type": "stream",
     "text": [
      "── \u001b[1mAttaching packages\u001b[22m ─────────────────────────────────────── tidyverse 1.3.1 ──\n",
      "\n",
      "\u001b[32m✔\u001b[39m \u001b[34mggplot2\u001b[39m 3.3.6     \u001b[32m✔\u001b[39m \u001b[34mpurrr  \u001b[39m 0.3.4\n",
      "\u001b[32m✔\u001b[39m \u001b[34mtibble \u001b[39m 3.1.7     \u001b[32m✔\u001b[39m \u001b[34mdplyr  \u001b[39m 1.0.9\n",
      "\u001b[32m✔\u001b[39m \u001b[34mtidyr  \u001b[39m 1.2.0     \u001b[32m✔\u001b[39m \u001b[34mstringr\u001b[39m 1.4.0\n",
      "\u001b[32m✔\u001b[39m \u001b[34mreadr  \u001b[39m 2.1.2     \u001b[32m✔\u001b[39m \u001b[34mforcats\u001b[39m 0.5.1\n",
      "\n",
      "── \u001b[1mConflicts\u001b[22m ────────────────────────────────────────── tidyverse_conflicts() ──\n",
      "\u001b[31m✖\u001b[39m \u001b[34mdplyr\u001b[39m::\u001b[32mfilter()\u001b[39m masks \u001b[34mstats\u001b[39m::filter()\n",
      "\u001b[31m✖\u001b[39m \u001b[34mdplyr\u001b[39m::\u001b[32mlag()\u001b[39m    masks \u001b[34mstats\u001b[39m::lag()\n",
      "\n",
      "── \u001b[1mAttaching packages\u001b[22m ────────────────────────────────────── tidymodels 1.0.0 ──\n",
      "\n",
      "\u001b[32m✔\u001b[39m \u001b[34mbroom       \u001b[39m 1.0.0     \u001b[32m✔\u001b[39m \u001b[34mrsample     \u001b[39m 1.0.0\n",
      "\u001b[32m✔\u001b[39m \u001b[34mdials       \u001b[39m 1.0.0     \u001b[32m✔\u001b[39m \u001b[34mtune        \u001b[39m 1.0.0\n",
      "\u001b[32m✔\u001b[39m \u001b[34minfer       \u001b[39m 1.0.2     \u001b[32m✔\u001b[39m \u001b[34mworkflows   \u001b[39m 1.0.0\n",
      "\u001b[32m✔\u001b[39m \u001b[34mmodeldata   \u001b[39m 1.0.0     \u001b[32m✔\u001b[39m \u001b[34mworkflowsets\u001b[39m 1.0.0\n",
      "\u001b[32m✔\u001b[39m \u001b[34mparsnip     \u001b[39m 1.0.0     \u001b[32m✔\u001b[39m \u001b[34myardstick   \u001b[39m 1.0.0\n",
      "\u001b[32m✔\u001b[39m \u001b[34mrecipes     \u001b[39m 1.0.1     \n",
      "\n",
      "── \u001b[1mConflicts\u001b[22m ───────────────────────────────────────── tidymodels_conflicts() ──\n",
      "\u001b[31m✖\u001b[39m \u001b[34mscales\u001b[39m::\u001b[32mdiscard()\u001b[39m masks \u001b[34mpurrr\u001b[39m::discard()\n",
      "\u001b[31m✖\u001b[39m \u001b[34mdplyr\u001b[39m::\u001b[32mfilter()\u001b[39m   masks \u001b[34mstats\u001b[39m::filter()\n",
      "\u001b[31m✖\u001b[39m \u001b[34mrecipes\u001b[39m::\u001b[32mfixed()\u001b[39m  masks \u001b[34mstringr\u001b[39m::fixed()\n",
      "\u001b[31m✖\u001b[39m \u001b[34mdplyr\u001b[39m::\u001b[32mlag()\u001b[39m      masks \u001b[34mstats\u001b[39m::lag()\n",
      "\u001b[31m✖\u001b[39m \u001b[34myardstick\u001b[39m::\u001b[32mspec()\u001b[39m masks \u001b[34mreadr\u001b[39m::spec()\n",
      "\u001b[31m✖\u001b[39m \u001b[34mrecipes\u001b[39m::\u001b[32mstep()\u001b[39m   masks \u001b[34mstats\u001b[39m::step()\n",
      "\u001b[34m•\u001b[39m Learn how to get started at \u001b[32mhttps://www.tidymodels.org/start/\u001b[39m\n",
      "\n",
      "Warning message in file(filename, \"r\", encoding = encoding):\n",
      "“cannot open file 'tests.R': No such file or directory”\n"
     ]
    },
    {
     "ename": "ERROR",
     "evalue": "Error in file(filename, \"r\", encoding = encoding): cannot open the connection\n",
     "output_type": "error",
     "traceback": [
      "Error in file(filename, \"r\", encoding = encoding): cannot open the connection\nTraceback:\n",
      "1. source(\"tests.R\")",
      "2. file(filename, \"r\", encoding = encoding)"
     ]
    }
   ],
   "source": [
    "##before continuing the following packages need to be runned\n",
    "library(tidyverse)\n",
    "library(repr)\n",
    "library(tidymodels)\n",
    "options(repr.matrix.max.rows = 6)\n",
    "source('tests.R')\n",
    "source('cleanup.R')"
   ]
  },
  {
   "cell_type": "code",
   "execution_count": 65,
   "id": "35a8ec18-8db4-44de-89f2-96ede365685c",
   "metadata": {},
   "outputs": [
    {
     "name": "stderr",
     "output_type": "stream",
     "text": [
      "\u001b[1mRows: \u001b[22m\u001b[34m25\u001b[39m \u001b[1mColumns: \u001b[22m\u001b[34m6\u001b[39m\n",
      "\u001b[36m──\u001b[39m \u001b[1mColumn specification\u001b[22m \u001b[36m────────────────────────────────────────────────────────\u001b[39m\n",
      "\u001b[1mDelimiter:\u001b[22m \",\"\n",
      "\u001b[31mchr\u001b[39m (1): max_portfolio_return_name\n",
      "\u001b[32mdbl\u001b[39m (5): year, annual_inflation, real_gdp_growth_rate_percentage, annual_une...\n",
      "\n",
      "\u001b[36mℹ\u001b[39m Use `spec()` to retrieve the full column specification for this data.\n",
      "\u001b[36mℹ\u001b[39m Specify the column types or set `show_col_types = FALSE` to quiet this message.\n"
     ]
    },
    {
     "data": {
      "text/html": [
       "<table class=\"dataframe\">\n",
       "<caption>A tibble: 25 × 4</caption>\n",
       "<thead>\n",
       "\t<tr><th scope=col>annual_inflation</th><th scope=col>real_gdp_growth_rate_percentage</th><th scope=col>annual_unemployment_rate</th><th scope=col>max_portfolio_return_name</th></tr>\n",
       "\t<tr><th scope=col>&lt;dbl&gt;</th><th scope=col>&lt;dbl&gt;</th><th scope=col>&lt;dbl&gt;</th><th scope=col>&lt;fct&gt;</th></tr>\n",
       "</thead>\n",
       "<tbody>\n",
       "\t<tr><td>2.337690</td><td>4.4</td><td>4.950000</td><td>60/40_portfolio_return_percentage </td></tr>\n",
       "\t<tr><td>1.552279</td><td>4.5</td><td>4.508333</td><td>growth_portfolio_return_percentage</td></tr>\n",
       "\t<tr><td>2.188027</td><td>4.8</td><td>4.216667</td><td>growth_portfolio_return_percentage</td></tr>\n",
       "\t<tr><td>⋮</td><td>⋮</td><td>⋮</td><td>⋮</td></tr>\n",
       "\t<tr><td>1.812210</td><td> 2.3</td><td>3.666667</td><td>growth_portfolio_return_percentage</td></tr>\n",
       "\t<tr><td>1.233584</td><td>-3.4</td><td>8.091666</td><td>growth_portfolio_return_percentage</td></tr>\n",
       "\t<tr><td>4.697859</td><td> 5.7</td><td>5.366667</td><td>growth_portfolio_return_percentage</td></tr>\n",
       "</tbody>\n",
       "</table>\n"
      ],
      "text/latex": [
       "A tibble: 25 × 4\n",
       "\\begin{tabular}{llll}\n",
       " annual\\_inflation & real\\_gdp\\_growth\\_rate\\_percentage & annual\\_unemployment\\_rate & max\\_portfolio\\_return\\_name\\\\\n",
       " <dbl> & <dbl> & <dbl> & <fct>\\\\\n",
       "\\hline\n",
       "\t 2.337690 & 4.4 & 4.950000 & 60/40\\_portfolio\\_return\\_percentage \\\\\n",
       "\t 1.552279 & 4.5 & 4.508333 & growth\\_portfolio\\_return\\_percentage\\\\\n",
       "\t 2.188027 & 4.8 & 4.216667 & growth\\_portfolio\\_return\\_percentage\\\\\n",
       "\t ⋮ & ⋮ & ⋮ & ⋮\\\\\n",
       "\t 1.812210 &  2.3 & 3.666667 & growth\\_portfolio\\_return\\_percentage\\\\\n",
       "\t 1.233584 & -3.4 & 8.091666 & growth\\_portfolio\\_return\\_percentage\\\\\n",
       "\t 4.697859 &  5.7 & 5.366667 & growth\\_portfolio\\_return\\_percentage\\\\\n",
       "\\end{tabular}\n"
      ],
      "text/markdown": [
       "\n",
       "A tibble: 25 × 4\n",
       "\n",
       "| annual_inflation &lt;dbl&gt; | real_gdp_growth_rate_percentage &lt;dbl&gt; | annual_unemployment_rate &lt;dbl&gt; | max_portfolio_return_name &lt;fct&gt; |\n",
       "|---|---|---|---|\n",
       "| 2.337690 | 4.4 | 4.950000 | 60/40_portfolio_return_percentage  |\n",
       "| 1.552279 | 4.5 | 4.508333 | growth_portfolio_return_percentage |\n",
       "| 2.188027 | 4.8 | 4.216667 | growth_portfolio_return_percentage |\n",
       "| ⋮ | ⋮ | ⋮ | ⋮ |\n",
       "| 1.812210 |  2.3 | 3.666667 | growth_portfolio_return_percentage |\n",
       "| 1.233584 | -3.4 | 8.091666 | growth_portfolio_return_percentage |\n",
       "| 4.697859 |  5.7 | 5.366667 | growth_portfolio_return_percentage |\n",
       "\n"
      ],
      "text/plain": [
       "   annual_inflation real_gdp_growth_rate_percentage annual_unemployment_rate\n",
       "1  2.337690         4.4                             4.950000                \n",
       "2  1.552279         4.5                             4.508333                \n",
       "3  2.188027         4.8                             4.216667                \n",
       "⋮  ⋮                ⋮                               ⋮                       \n",
       "23 1.812210          2.3                            3.666667                \n",
       "24 1.233584         -3.4                            8.091666                \n",
       "25 4.697859          5.7                            5.366667                \n",
       "   max_portfolio_return_name         \n",
       "1  60/40_portfolio_return_percentage \n",
       "2  growth_portfolio_return_percentage\n",
       "3  growth_portfolio_return_percentage\n",
       "⋮  ⋮                                 \n",
       "23 growth_portfolio_return_percentage\n",
       "24 growth_portfolio_return_percentage\n",
       "25 growth_portfolio_return_percentage"
      ]
     },
     "metadata": {},
     "output_type": "display_data"
    }
   ],
   "source": [
    "portfolio_data <- read_csv(\"final_data.csv\")|>\n",
    "mutate(max_portfolio_return_name = as_factor(max_portfolio_return_name))|>\n",
    "select(-year, -max_portfolio_return_value)\n",
    "portfolio_data"
   ]
  },
  {
   "cell_type": "code",
   "execution_count": 66,
   "id": "b351c8a1-8a93-472b-8940-18348c1680b3",
   "metadata": {},
   "outputs": [],
   "source": [
    "set.seed(9999) #ensuring reproducibility\n",
    "options(repr.plot.height = 5, repr.plot.width = 6)\n",
    "\n",
    "portfolio_split <- initial_split(portfolio_data, prop = 0.75, strata = max_portfolio_return_name)\n",
    "portfolio_train <- training(portfolio_split)\n",
    "portfolio_test <- testing(portfolio_split) "
   ]
  },
  {
   "cell_type": "code",
   "execution_count": 67,
   "id": "77a32ce3-1107-4d83-b58b-6c1acf3f78b8",
   "metadata": {},
   "outputs": [],
   "source": [
    "knn_recipe <- recipe(max_portfolio_return_name ~ annual_inflation + real_gdp_growth_rate_percentage + annual_unemployment_rate, data = portfolio_train) |>\n",
    "    step_center(all_predictors()) |>\n",
    "    step_scale (all_predictors())"
   ]
  },
  {
   "cell_type": "code",
   "execution_count": 68,
   "id": "9cf64d16-0e7a-447c-be51-98bea5809808",
   "metadata": {},
   "outputs": [],
   "source": [
    "knn_tune <- nearest_neighbor(weight_func = \"rectangular\", neighbors = tune()) |> \n",
    "set_engine(\"kknn\") |>\n",
    "set_mode(\"classification\") "
   ]
  },
  {
   "cell_type": "code",
   "execution_count": 69,
   "id": "483dea26-ee60-454b-8e0f-02fd9d5a1623",
   "metadata": {},
   "outputs": [
    {
     "name": "stderr",
     "output_type": "stream",
     "text": [
      "\u001b[33m!\u001b[39m \u001b[33mFold1: preprocessor 1/1, model 1/1: 15 samples were requested but there were 13 rows in the data. 8 will be ...\u001b[39m\n",
      "\n",
      "\u001b[33m!\u001b[39m \u001b[33mFold1: preprocessor 1/1, model 1/1 (predictions): data length [60] is not a sub-multiple or multiple of the number of colu...\u001b[39m\n",
      "\n",
      "\u001b[33m!\u001b[39m \u001b[33mFold1: internal:\n",
      "  No observations were detected in `truth` for level(s): '60/40_portfoli...\n",
      "  Computation will proceed by ignoring those levels.\u001b[39m\n",
      "\n",
      "\u001b[33m!\u001b[39m \u001b[33mFold2: preprocessor 1/1, model 1/1: 15 samples were requested but there were 13 rows in the data. 8 will be ...\u001b[39m\n",
      "\n",
      "\u001b[33m!\u001b[39m \u001b[33mFold2: preprocessor 1/1, model 1/1 (predictions): data length [65] is not a sub-multiple or multiple of the number of colu...\u001b[39m\n",
      "\n",
      "\u001b[33m!\u001b[39m \u001b[33mFold2: internal:\n",
      "  No observations were detected in `truth` for level(s): '40/60_portfoli...\n",
      "  Computation will proceed by ignoring those levels., No observations we...\n",
      "  Computation will proceed by ignoring those levels.\u001b[39m\n",
      "\n",
      "\u001b[33m!\u001b[39m \u001b[33mFold3: preprocessor 1/1, model 1/1: 15 samples were requested but there were 14 rows in the data. 9 will be ...\u001b[39m\n",
      "\n",
      "\u001b[33m!\u001b[39m \u001b[33mFold3: preprocessor 1/1, model 1/1 (predictions): data length [52] is not a sub-multiple or multiple of the number of colu...\u001b[39m\n",
      "\n",
      "\u001b[33m!\u001b[39m \u001b[33mFold3: internal:\n",
      "  No observations were detected in `truth` for level(s): '40/60_portfoli...\n",
      "  Computation will proceed by ignoring those levels.\u001b[39m\n",
      "\n",
      "\u001b[33m!\u001b[39m \u001b[33mFold4: preprocessor 1/1, model 1/1: 15 samples were requested but there were 16 rows in the data. 11 will be...\u001b[39m\n",
      "\n",
      "\u001b[33m!\u001b[39m \u001b[33mFold4: internal:\n",
      "  No observations were detected in `truth` for level(s): '60/40_portfoli...\n",
      "  Computation will proceed by ignoring those levels.\u001b[39m\n",
      "\n",
      "\u001b[33m!\u001b[39m \u001b[33mFold5: preprocessor 1/1, model 1/1: 15 samples were requested but there were 16 rows in the data. 11 will be...\u001b[39m\n",
      "\n",
      "\u001b[33m!\u001b[39m \u001b[33mFold5: internal:\n",
      "  No observations were detected in `truth` for level(s): '60/40_portfoli...\n",
      "  Computation will proceed by ignoring those levels.\u001b[39m\n",
      "\n"
     ]
    },
    {
     "data": {
      "image/png": "[encoded data removed]",
      "text/plain": [
       "plot without title"
      ]
     },
     "metadata": {
      "image/png": {
       "height": 300,
       "width": 360
      }
     },
     "output_type": "display_data"
    }
   ],
   "source": [
    "set.seed(9999) #ensuring reproducibility\n",
    "\n",
    "knn_vfold <- vfold_cv(portfolio_train, v = 5, strata = max_portfolio_return_name)\n",
    "gridvals <- tibble(neighbors = seq(from = 1, to = 15))\n",
    "\n",
    "knn_results <- workflow() |>\n",
    "  add_recipe(knn_recipe) |>\n",
    "  add_model(knn_tune) |>\n",
    "  tune_grid(resamples = knn_vfold, grid = gridvals) |>\n",
    "  collect_metrics() \n",
    "\n",
    "accuracies <- knn_results |> \n",
    "       filter(.metric == \"accuracy\")\n",
    "\n",
    "cross_val_plot <- ggplot(accuracies, aes(x = neighbors, y = mean))+\n",
    "       geom_point() +\n",
    "       geom_line() +\n",
    "       labs(x = \"Neighbors\", y = \"Accuracy Estimate\")\n",
    "cross_val_plot                                                                     "
   ]
  },
  {
   "cell_type": "code",
   "execution_count": 70,
   "id": "3ed1bfc3-e40d-497b-abe0-4c4809c51fea",
   "metadata": {},
   "outputs": [],
   "source": [
    "# based on the plot,  we will pick K=8 because it the median neighbor between the equal-accuracy-range of K=4-12. choosing k=8 ensures that going a bit to the righ or left leaves the accuracy estimate intact\n",
    "# We certainly believe that in order to enhance our model, more data should be collected for each variable. Unfortunatly, our data was restricted for data from 1997-2021. \n",
    "\n",
    "knn_spec <- nearest_neighbor(weight_func = \"rectangular\", neighbors = 8) |>\n",
    "set_engine(\"kknn\") |>\n",
    "set_mode(\"classification\")\n",
    "\n",
    "knn_fit <- workflow() |>\n",
    "add_recipe(knn_recipe) |>\n",
    "add_model(knn_spec) |>\n",
    "fit(data = portfolio_train)"
   ]
  },
  {
   "cell_type": "code",
   "execution_count": 71,
   "id": "28f1d673-9b56-48d6-82f3-5b7226d41540",
   "metadata": {},
   "outputs": [
    {
     "data": {
      "text/html": [
       "<table class=\"dataframe\">\n",
       "<caption>A tibble: 2 × 3</caption>\n",
       "<thead>\n",
       "\t<tr><th scope=col>.metric</th><th scope=col>.estimator</th><th scope=col>.estimate</th></tr>\n",
       "\t<tr><th scope=col>&lt;chr&gt;</th><th scope=col>&lt;chr&gt;</th><th scope=col>&lt;dbl&gt;</th></tr>\n",
       "</thead>\n",
       "<tbody>\n",
       "\t<tr><td>accuracy</td><td>multiclass</td><td>0.7142857</td></tr>\n",
       "\t<tr><td>kap     </td><td>multiclass</td><td>0.3913043</td></tr>\n",
       "</tbody>\n",
       "</table>\n"
      ],
      "text/latex": [
       "A tibble: 2 × 3\n",
       "\\begin{tabular}{lll}\n",
       " .metric & .estimator & .estimate\\\\\n",
       " <chr> & <chr> & <dbl>\\\\\n",
       "\\hline\n",
       "\t accuracy & multiclass & 0.7142857\\\\\n",
       "\t kap      & multiclass & 0.3913043\\\\\n",
       "\\end{tabular}\n"
      ],
      "text/markdown": [
       "\n",
       "A tibble: 2 × 3\n",
       "\n",
       "| .metric &lt;chr&gt; | .estimator &lt;chr&gt; | .estimate &lt;dbl&gt; |\n",
       "|---|---|---|\n",
       "| accuracy | multiclass | 0.7142857 |\n",
       "| kap      | multiclass | 0.3913043 |\n",
       "\n"
      ],
      "text/plain": [
       "  .metric  .estimator .estimate\n",
       "1 accuracy multiclass 0.7142857\n",
       "2 kap      multiclass 0.3913043"
      ]
     },
     "metadata": {},
     "output_type": "display_data"
    }
   ],
   "source": [
    "#testing model predictions with testing set\n",
    "\n",
    "set.seed(9999) #ensuring reproducibility\n",
    "\n",
    "test_predictions <- predict(knn_fit,portfolio_test) |>\n",
    "bind_cols(portfolio_test)\n",
    "\n",
    "knn_metrics <- test_predictions |>\n",
    "metrics(truth = max_portfolio_return_name, estimate = .pred_class)\n",
    "knn_metrics\n",
    "\n",
    "#accuracy seems to improve a bit (from 70% up to ~71%) when applying model to testing dataset"
   ]
  },
  {
   "cell_type": "code",
   "execution_count": 94,
   "id": "6b424649-7145-404e-8abe-d2c2ad866f0d",
   "metadata": {},
   "outputs": [
    {
     "data": {
      "text/html": [
       "<table class=\"dataframe\">\n",
       "<caption>A tibble: 1 × 1</caption>\n",
       "<thead>\n",
       "\t<tr><th scope=col>.pred_class</th></tr>\n",
       "\t<tr><th scope=col>&lt;fct&gt;</th></tr>\n",
       "</thead>\n",
       "<tbody>\n",
       "\t<tr><td>60/40_portfolio_return_percentage</td></tr>\n",
       "</tbody>\n",
       "</table>\n"
      ],
      "text/latex": [
       "A tibble: 1 × 1\n",
       "\\begin{tabular}{l}\n",
       " .pred\\_class\\\\\n",
       " <fct>\\\\\n",
       "\\hline\n",
       "\t 60/40\\_portfolio\\_return\\_percentage\\\\\n",
       "\\end{tabular}\n"
      ],
      "text/markdown": [
       "\n",
       "A tibble: 1 × 1\n",
       "\n",
       "| .pred_class &lt;fct&gt; |\n",
       "|---|\n",
       "| 60/40_portfolio_return_percentage |\n",
       "\n"
      ],
      "text/plain": [
       "  .pred_class                      \n",
       "1 60/40_portfolio_return_percentage"
      ]
     },
     "metadata": {},
     "output_type": "display_data"
    },
    {
     "data": {
      "text/html": [
       "<table class=\"dataframe\">\n",
       "<caption>A tibble: 1 × 1</caption>\n",
       "<thead>\n",
       "\t<tr><th scope=col>.pred_class</th></tr>\n",
       "\t<tr><th scope=col>&lt;fct&gt;</th></tr>\n",
       "</thead>\n",
       "<tbody>\n",
       "\t<tr><td>growth_portfolio_return_percentage</td></tr>\n",
       "</tbody>\n",
       "</table>\n"
      ],
      "text/latex": [
       "A tibble: 1 × 1\n",
       "\\begin{tabular}{l}\n",
       " .pred\\_class\\\\\n",
       " <fct>\\\\\n",
       "\\hline\n",
       "\t growth\\_portfolio\\_return\\_percentage\\\\\n",
       "\\end{tabular}\n"
      ],
      "text/markdown": [
       "\n",
       "A tibble: 1 × 1\n",
       "\n",
       "| .pred_class &lt;fct&gt; |\n",
       "|---|\n",
       "| growth_portfolio_return_percentage |\n",
       "\n"
      ],
      "text/plain": [
       "  .pred_class                       \n",
       "1 growth_portfolio_return_percentage"
      ]
     },
     "metadata": {},
     "output_type": "display_data"
    }
   ],
   "source": [
    "#This is the new observation to predict\n",
    "\n",
    "new_economic_environment_1 <- tibble(annual_inflation = 1, real_gdp_growth_rate_percentage = 2.3, annual_unemployment_rate = 4)\n",
    "\n",
    "portfolio_prediction <- predict(knn_fit, new_economic_environment_1)\n",
    "portfolio_prediction\n",
    "\n",
    "new_economic_environment_2 <- tibble(annual_inflation = 8, real_gdp_growth_rate_percentage = 2, annual_unemployment_rate = 4)\n",
    "\n",
    "portfolio_prediction <- predict(knn_fit, new_economic_environment_2)\n",
    "portfolio_prediction\n",
    "    \n",
    "    "
   ]
  },
  {
   "cell_type": "code",
   "execution_count": 95,
   "id": "1ef8b9b8-63ec-4769-8b22-327e9d115f39",
   "metadata": {},
   "outputs": [],
   "source": [
    "#Before being done, checking proper balancing of classes is needed!"
   ]
  },
  {
   "cell_type": "code",
   "execution_count": null,
   "id": "8d21f080-13c7-4c36-bb6a-6225f67e6292",
   "metadata": {},
   "outputs": [],
   "source": []
  }
 ],
 "metadata": {
  "kernelspec": {
   "display_name": "R",
   "language": "R",
   "name": "ir"
  },
  "language_info": {
   "codemirror_mode": "r",
   "file_extension": ".r",
   "mimetype": "text/x-r-source",
   "name": "R",
   "pygments_lexer": "r",
   "version": "4.1.3"
  }
 },
 "nbformat": 4,
 "nbformat_minor": 5
}
