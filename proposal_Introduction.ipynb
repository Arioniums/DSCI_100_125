{
 "cells": [
  {
   "cell_type": "code",
   "execution_count": 1,
   "id": "eabffaf0-de20-4045-85c7-a3311e094f33",
   "metadata": {},
   "outputs": [
    {
     "name": "stderr",
     "output_type": "stream",
     "text": [
      "── \u001b[1mAttaching packages\u001b[22m ─────────────────────────────────────── tidyverse 1.3.1 ──\n",
      "\n",
      "\u001b[32m✔\u001b[39m \u001b[34mggplot2\u001b[39m 3.3.6     \u001b[32m✔\u001b[39m \u001b[34mpurrr  \u001b[39m 0.3.4\n",
      "\u001b[32m✔\u001b[39m \u001b[34mtibble \u001b[39m 3.1.7     \u001b[32m✔\u001b[39m \u001b[34mdplyr  \u001b[39m 1.0.9\n",
      "\u001b[32m✔\u001b[39m \u001b[34mtidyr  \u001b[39m 1.2.0     \u001b[32m✔\u001b[39m \u001b[34mstringr\u001b[39m 1.4.0\n",
      "\u001b[32m✔\u001b[39m \u001b[34mreadr  \u001b[39m 2.1.2     \u001b[32m✔\u001b[39m \u001b[34mforcats\u001b[39m 0.5.1\n",
      "\n",
      "── \u001b[1mConflicts\u001b[22m ────────────────────────────────────────── tidyverse_conflicts() ──\n",
      "\u001b[31m✖\u001b[39m \u001b[34mdplyr\u001b[39m::\u001b[32mfilter()\u001b[39m masks \u001b[34mstats\u001b[39m::filter()\n",
      "\u001b[31m✖\u001b[39m \u001b[34mdplyr\u001b[39m::\u001b[32mlag()\u001b[39m    masks \u001b[34mstats\u001b[39m::lag()\n",
      "\n"
     ]
    }
   ],
   "source": [
    "library(tidyverse)\n",
    "Diagram_1 <- \"https://raw.githubusercontent.com/Arioniums/DSCI_100_125/main/Diagram%201%20%20for%20Introduction.png\"\n",
    "Diagram_path <- \"Diagram_1.png\"\n",
    "download.file(Diagram_1, destfile = Diagram_path)"
   ]
  },
  {
   "cell_type": "markdown",
   "id": "33162b1d-04c4-47ce-a220-7b9644406d51",
   "metadata": {},
   "source": [
    "The investment world is a vast place with countless financial products to choose from! Our project specifically focuses on investment portfolios/bundles composed of different  stocks/securities/equities mutual funds;  an mutual fund is an investment fund that track the performance of a specific benchmark index, such as the S&P 500 (500 biggest public U.S companies). More specifically, we are interested in exploring the annual performance of 6 different portfolios, with each having a unique mutual funds composition (see diagram 1 below as reference), from 1997-2021. Based on these returns, we then pay attention to annual US inflation, unemployment, and Real GDP growth rates data for the same time span. These are our explanatory variables that will then be used to help predict and answer our project question: Which index portfolios is expected to earn the highest return under different US inflation, unemployment, and real GDP growth expectations? A focus is given to U.S data since the American stock market account for ~60% of the world total market capitalization.\n",
    "\n"
   ]
  },
  {
   "cell_type": "markdown",
   "id": "7bfb8fb9-a055-4eaf-9374-688fa30f6605",
   "metadata": {},
   "source": [
    "![ ](Diagram_1.png)"
   ]
  },
  {
   "cell_type": "code",
   "execution_count": null,
   "id": "7f0b6769-a899-4146-bc26-23c8e461f919",
   "metadata": {},
   "outputs": [],
   "source": []
  }
 ],
 "metadata": {
  "kernelspec": {
   "display_name": "R",
   "language": "R",
   "name": "ir"
  },
  "language_info": {
   "codemirror_mode": "r",
   "file_extension": ".r",
   "mimetype": "text/x-r-source",
   "name": "R",
   "pygments_lexer": "r",
   "version": "4.1.3"
  }
 },
 "nbformat": 4,
 "nbformat_minor": 5
}
